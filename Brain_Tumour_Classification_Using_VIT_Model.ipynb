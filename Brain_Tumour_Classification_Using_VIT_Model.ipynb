{
  "nbformat": 4,
  "nbformat_minor": 0,
  "metadata": {
    "colab": {
      "provenance": [],
      "authorship_tag": "ABX9TyNyXEY5off6cF4mZVjEeOyd",
      "include_colab_link": true
    },
    "kernelspec": {
      "name": "python3",
      "display_name": "Python 3"
    },
    "language_info": {
      "name": "python"
    }
  },
  "cells": [
    {
      "cell_type": "markdown",
      "metadata": {
        "id": "view-in-github",
        "colab_type": "text"
      },
      "source": [
        "<a href=\"https://colab.research.google.com/github/TharinsaMudalige/Neuron-Brain_Tumor_Detection_Classification_with_XAI/blob/Detection-Classification-VIT/Brain_Tumour_Classification_Using_VIT_Model.ipynb\" target=\"_parent\"><img src=\"https://colab.research.google.com/assets/colab-badge.svg\" alt=\"Open In Colab\"/></a>"
      ]
    },
    {
      "cell_type": "code",
      "execution_count": null,
      "metadata": {
        "id": "TDRADPlHGRPF"
      },
      "outputs": [],
      "source": [
        "import os\n",
        "import numpy as np\n",
        "import tensorflow as tf\n",
        "from tensorflow.keras import layers, models\n",
        "from sklearn.model_selection import train_test_split\n",
        "from sklearn.metrics import classification_report, confusion_matrix\n",
        "import matplotlib.pyplot as plt\n",
        "import seaborn as sns\n"
      ]
    },
    {
      "cell_type": "code",
      "source": [
        "\n",
        "# Step 1: Load and preprocess the dataset\n",
        "def load_dataset(base_dir):\n",
        "    \"\"\"Load images and labels from the dataset.\"\"\"\n",
        "    images = []  # List to store image data\n",
        "    labels = []  # List to store corresponding labels\n",
        "    class_names = sorted(os.listdir(base_dir))  # Get class names from folder names\n",
        "\n",
        "    for label, class_name in enumerate(class_names):  # Iterate over each class\n",
        "        class_dir = os.path.join(base_dir, class_name)  # Path to the class folder\n",
        "        for file in os.listdir(class_dir):  # Iterate over each image file in the folder\n",
        "            file_path = os.path.join(class_dir, file)  # Full path to the image file\n",
        "            # Load image as grayscale and resize to 224x224\n",
        "            image = tf.keras.preprocessing.image.load_img(file_path, color_mode='grayscale', target_size=(224, 224))\n",
        "            # Convert the image to a numpy array and normalize pixel values to [0, 1]\n",
        "            image = tf.keras.preprocessing.image.img_to_array(image) / 255.0\n",
        "            images.append(image)  # Add the image to the list\n",
        "            labels.append(label)  # Add the label to the list\n",
        "\n",
        "    return np.array(images), np.array(labels), class_names  # Return the images, labels, and class names\n"
      ],
      "metadata": {
        "id": "mvNPN8630iFG"
      },
      "execution_count": null,
      "outputs": []
    },
    {
      "cell_type": "code",
      "source": [
        "# Define dataset directory\n",
        "base_dir = \"path/to/dataset\"  # Path to the dataset folder\n"
      ],
      "metadata": {
        "id": "GdQ2CQGr0n4u"
      },
      "execution_count": null,
      "outputs": []
    }
  ]
}
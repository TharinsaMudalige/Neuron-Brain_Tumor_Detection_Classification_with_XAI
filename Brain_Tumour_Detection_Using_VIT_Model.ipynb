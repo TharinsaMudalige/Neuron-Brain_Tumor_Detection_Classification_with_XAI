{
  "cells": [
    {
      "cell_type": "markdown",
      "metadata": {
        "id": "view-in-github",
        "colab_type": "text"
      },
      "source": [
        "<a href=\"https://colab.research.google.com/github/TharinsaMudalige/Neuron-Brain_Tumor_Detection_Classification_with_XAI/blob/Detection-Classification-VIT/Brain_Tumour_Detection_Using_VIT_Model.ipynb\" target=\"_parent\"><img src=\"https://colab.research.google.com/assets/colab-badge.svg\" alt=\"Open In Colab\"/></a>"
      ]
    },
    {
      "cell_type": "code",
      "execution_count": null,
      "metadata": {
        "id": "rOf71xnVTk-B"
      },
      "outputs": [],
      "source": [
        "import os\n",
        "import numpy as np\n",
        "import tensorflow as tf\n",
        "from sklearn.model_selection import train_test_split\n",
        "from sklearn.metrics import precision_score, recall_score\n",
        "from tensorflow.keras.utils import to_categorical\n"
      ]
    },
    {
      "cell_type": "code",
      "execution_count": null,
      "metadata": {
        "colab": {
          "base_uri": "https://localhost:8080/"
        },
        "id": "DYHZHDSfuGJ-",
        "outputId": "9a04414d-7d33-4977-a112-2b92d7cfe374"
      },
      "outputs": [
        {
          "name": "stdout",
          "output_type": "stream",
          "text": [
            "Drive already mounted at /content/drive; to attempt to forcibly remount, call drive.mount(\"/content/drive\", force_remount=True).\n"
          ]
        }
      ],
      "source": [
        "from google.colab import drive\n",
        "drive.mount('/content/drive')"
      ]
    },
    {
      "cell_type": "markdown",
      "metadata": {
        "id": "ga-8PhOrTu5c"
      },
      "source": [
        "Load the Dataset"
      ]
    },
    {
      "cell_type": "code",
      "execution_count": null,
      "metadata": {
        "id": "k6EI5DPiTxV_"
      },
      "outputs": [],
      "source": [
        "# Load dataset\n",
        "def load_dataset(data_dir, target_size=(224, 224)):\n",
        "    images = []\n",
        "    labels = []\n",
        "    for label, folder in enumerate(['tumor', 'no_tumor']):\n",
        "        folder_path = os.path.join(data_dir, folder)\n",
        "        for img_file in os.listdir(folder_path):\n",
        "            img_path = os.path.join(folder_path, img_file)\n",
        "            img = tf.keras.preprocessing.image.load_img(img_path, target_size=target_size, color_mode='grayscale')\n",
        "            img = tf.keras.preprocessing.image.img_to_array(img) / 255.0  # Normalize to [0, 1]\n",
        "            images.append(img)\n",
        "            labels.append(label)\n",
        "    return np.array(images), np.array(labels)\n"
      ]
    },
    {
      "cell_type": "markdown",
      "metadata": {
        "id": "88w_3nVTT-7Y"
      },
      "source": [
        "Define the Vision Transformer Model (ViT)"
      ]
    },
    {
      "cell_type": "code",
      "execution_count": null,
      "metadata": {
        "id": "76lfRMQfUF7J"
      },
      "outputs": [],
      "source": [
        "# Vision Transformer Model\n",
        "def create_vit_model(input_shape, num_classes=2):\n",
        "    from tensorflow.keras.layers import (\n",
        "        Dense, LayerNormalization, MultiHeadAttention, Dropout, Layer, Input, Flatten, Embedding\n",
        "    )\n",
        "    from tensorflow.keras.models import Model\n",
        "\n",
        "    class Patches(Layer):\n",
        "        def __init__(self, patch_size):\n",
        "            super(Patches, self).__init__()\n",
        "            self.patch_size = patch_size\n",
        "\n",
        "        def call(self, images):\n",
        "            patches = tf.image.extract_patches(\n",
        "                images=images,\n",
        "                sizes=[1, self.patch_size, self.patch_size, 1],\n",
        "                strides=[1, self.patch_size, self.patch_size, 1],\n",
        "                rates=[1, 1, 1, 1],\n",
        "                padding=\"VALID\",\n",
        "            )\n",
        "            num_patches = (input_shape[0] // self.patch_size) * (input_shape[1] // self.patch_size)\n",
        "            return tf.reshape(patches, [-1, num_patches, self.patch_size * self.patch_size])\n",
        "\n",
        "    class TransformerBlock(Layer):\n",
        "        def __init__(self, embed_dim):\n",
        "            super(TransformerBlock, self).__init__()\n",
        "            self.layer_norm1 = LayerNormalization()\n",
        "            self.mha = MultiHeadAttention(num_heads=8, key_dim=embed_dim)\n",
        "            self.dropout1 = Dropout(0.1)\n",
        "            self.layer_norm2 = LayerNormalization()\n",
        "            self.dense = Dense(embed_dim, activation=\"relu\")\n",
        "            self.dropout2 = Dropout(0.1)\n",
        "\n",
        "        def call(self, inputs):\n",
        "            x = self.layer_norm1(inputs)\n",
        "            attn_output = self.mha(x, x, x)\n",
        "            x = self.dropout1(attn_output) + inputs\n",
        "            x = self.layer_norm2(x)\n",
        "            dense_output = self.dense(x)\n",
        "            x = self.dropout2(dense_output) + x\n",
        "            return x\n",
        "\n",
        "    inputs = Input(shape=input_shape)\n",
        "    patch_size = 16\n",
        "    num_patches = (input_shape[0] // patch_size) * (input_shape[1] // patch_size)\n",
        "\n",
        "    patches_layer = Patches(patch_size)\n",
        "    patches = patches_layer(inputs)\n",
        "\n",
        "    embed_dim = 256\n",
        "    projection = Dense(embed_dim)(patches)\n",
        "    positions = Embedding(input_dim=num_patches, output_dim=embed_dim)(tf.range(start=0, limit=num_patches, delta=1))\n",
        "    encoded_patches = projection + positions\n",
        "\n",
        "    x = TransformerBlock(embed_dim=embed_dim)(encoded_patches)\n",
        "    x = Flatten()(x)\n",
        "    x = Dense(128, activation=\"relu\")(x)\n",
        "    outputs = Dense(num_classes, activation=\"softmax\")(x)\n",
        "\n",
        "    return Model(inputs, outputs)\n"
      ]
    },
    {
      "cell_type": "markdown",
      "metadata": {
        "id": "B6MmlwDPULxL"
      },
      "source": [
        "Load and Prepare the Dataset"
      ]
    },
    {
      "cell_type": "code",
      "execution_count": null,
      "metadata": {
        "id": "_BgK7ZxnUP8j"
      },
      "outputs": [],
      "source": [
        "data_dir = \"/content/drive/MyDrive/DSGP_BrainTumorDetection/DSGP_Preprocessed_Images\"\n",
        "input_shape = (224, 224, 1)\n"
      ]
    },
    {
      "cell_type": "markdown",
      "metadata": {
        "id": "dZ2bL4GQUSwN"
      },
      "source": [
        "Split the data into Training and Testing Sets"
      ]
    },
    {
      "cell_type": "code",
      "execution_count": null,
      "metadata": {
        "colab": {
          "base_uri": "https://localhost:8080/"
        },
        "id": "nRia-MarUaJo",
        "outputId": "1911ee86-258b-4190-bc49-d0c558b80371"
      },
      "outputs": [
        {
          "output_type": "stream",
          "name": "stdout",
          "text": [
            "Train shape: (4292, 224, 224, 1), Test shape: (1840, 224, 224, 1)\n"
          ]
        }
      ],
      "source": [
        "X, y = load_dataset(data_dir, target_size=(224, 224))\n",
        "X_train, X_test, y_train, y_test = train_test_split(X, y, test_size=0.3, random_state=42)\n",
        "\n",
        "print(f\"Train shape: {X_train.shape}, Test shape: {X_test.shape}\")\n"
      ]
    },
    {
      "cell_type": "markdown",
      "metadata": {
        "id": "TTnAGLNdUiu3"
      },
      "source": [
        "Create and Compile the ViT Model"
      ]
    },
    {
      "cell_type": "markdown",
      "metadata": {
        "id": "CnORaqQpUsJd"
      },
      "source": [
        "Compile the Model"
      ]
    },
    {
      "cell_type": "code",
      "execution_count": null,
      "metadata": {
        "colab": {
          "base_uri": "https://localhost:8080/"
        },
        "id": "QwCFPdGUUu9A",
        "outputId": "05aee769-5e90-4eaa-995d-cadda7521f4a"
      },
      "outputs": [
        {
          "output_type": "stream",
          "name": "stdout",
          "text": [
            "Model created successfully.\n"
          ]
        }
      ],
      "source": [
        "# Create the model\n",
        "model = create_vit_model(input_shape=input_shape, num_classes=2)\n",
        "model.compile(\n",
        "    optimizer=tf.keras.optimizers.Adam(learning_rate=0.0001),\n",
        "    loss=\"sparse_categorical_crossentropy\",\n",
        "    metrics=[\"accuracy\"]\n",
        ")\n",
        "\n",
        "print(\"Model created successfully.\")\n"
      ]
    },
    {
      "cell_type": "markdown",
      "metadata": {
        "id": "ignOXywZU1wV"
      },
      "source": [
        "Train the Model"
      ]
    },
    {
      "cell_type": "code",
      "execution_count": null,
      "metadata": {
        "colab": {
          "base_uri": "https://localhost:8080/"
        },
        "id": "vAnNWW1qU4nT",
        "outputId": "21e21bb4-e2ee-4fde-c005-365a87449e07"
      },
      "outputs": [
        {
          "output_type": "stream",
          "name": "stdout",
          "text": [
            "Epoch 1/10\n",
            "\u001b[1m135/135\u001b[0m \u001b[32m━━━━━━━━━━━━━━━━━━━━\u001b[0m\u001b[37m\u001b[0m \u001b[1m616s\u001b[0m 5s/step - accuracy: 0.6304 - loss: 1.1028 - val_accuracy: 0.8152 - val_loss: 0.4253\n",
            "Epoch 2/10\n",
            "\u001b[1m135/135\u001b[0m \u001b[32m━━━━━━━━━━━━━━━━━━━━\u001b[0m\u001b[37m\u001b[0m \u001b[1m623s\u001b[0m 5s/step - accuracy: 0.8327 - loss: 0.3989 - val_accuracy: 0.8973 - val_loss: 0.2818\n",
            "Epoch 3/10\n",
            "\u001b[1m135/135\u001b[0m \u001b[32m━━━━━━━━━━━━━━━━━━━━\u001b[0m\u001b[37m\u001b[0m \u001b[1m615s\u001b[0m 5s/step - accuracy: 0.8996 - loss: 0.2669 - val_accuracy: 0.9185 - val_loss: 0.2246\n",
            "Epoch 4/10\n",
            "\u001b[1m135/135\u001b[0m \u001b[32m━━━━━━━━━━━━━━━━━━━━\u001b[0m\u001b[37m\u001b[0m \u001b[1m606s\u001b[0m 4s/step - accuracy: 0.9486 - loss: 0.1597 - val_accuracy: 0.9049 - val_loss: 0.2417\n",
            "Epoch 5/10\n",
            "\u001b[1m135/135\u001b[0m \u001b[32m━━━━━━━━━━━━━━━━━━━━\u001b[0m\u001b[37m\u001b[0m \u001b[1m608s\u001b[0m 5s/step - accuracy: 0.9509 - loss: 0.1404 - val_accuracy: 0.9543 - val_loss: 0.1607\n",
            "Epoch 6/10\n",
            "\u001b[1m135/135\u001b[0m \u001b[32m━━━━━━━━━━━━━━━━━━━━\u001b[0m\u001b[37m\u001b[0m \u001b[1m630s\u001b[0m 5s/step - accuracy: 0.9821 - loss: 0.0767 - val_accuracy: 0.9647 - val_loss: 0.1163\n",
            "Epoch 7/10\n",
            "\u001b[1m135/135\u001b[0m \u001b[32m━━━━━━━━━━━━━━━━━━━━\u001b[0m\u001b[37m\u001b[0m \u001b[1m626s\u001b[0m 5s/step - accuracy: 0.9910 - loss: 0.0428 - val_accuracy: 0.9620 - val_loss: 0.1315\n",
            "Epoch 8/10\n",
            "\u001b[1m135/135\u001b[0m \u001b[32m━━━━━━━━━━━━━━━━━━━━\u001b[0m\u001b[37m\u001b[0m \u001b[1m607s\u001b[0m 4s/step - accuracy: 0.9961 - loss: 0.0272 - val_accuracy: 0.9701 - val_loss: 0.1083\n",
            "Epoch 9/10\n",
            "\u001b[1m135/135\u001b[0m \u001b[32m━━━━━━━━━━━━━━━━━━━━\u001b[0m\u001b[37m\u001b[0m \u001b[1m634s\u001b[0m 5s/step - accuracy: 0.9993 - loss: 0.0154 - val_accuracy: 0.9712 - val_loss: 0.1087\n",
            "Epoch 10/10\n",
            "\u001b[1m135/135\u001b[0m \u001b[32m━━━━━━━━━━━━━━━━━━━━\u001b[0m\u001b[37m\u001b[0m \u001b[1m640s\u001b[0m 5s/step - accuracy: 0.9999 - loss: 0.0093 - val_accuracy: 0.9728 - val_loss: 0.1104\n"
          ]
        }
      ],
      "source": [
        "# Train the Model with a batch size of 32 or adjust evaluation batch size\n",
        "history = model.fit(X_train, y_train, epochs=10, batch_size=32, validation_data=(X_test, y_test))\n",
        "\n"
      ]
    },
    {
      "cell_type": "markdown",
      "metadata": {
        "id": "BkndGXn-U97Z"
      },
      "source": [
        "Evaluate the Model"
      ]
    },
    {
      "cell_type": "code",
      "execution_count": null,
      "metadata": {
        "colab": {
          "base_uri": "https://localhost:8080/"
        },
        "id": "-4FLR4k_VDiM",
        "outputId": "3db63b25-040e-4037-f810-51b4b59f95c7"
      },
      "outputs": [
        {
          "output_type": "stream",
          "name": "stdout",
          "text": [
            "\u001b[1m58/58\u001b[0m \u001b[32m━━━━━━━━━━━━━━━━━━━━\u001b[0m\u001b[37m\u001b[0m \u001b[1m78s\u001b[0m 1s/step - accuracy: 0.9731 - loss: 0.1080\n",
            "\u001b[1m58/58\u001b[0m \u001b[32m━━━━━━━━━━━━━━━━━━━━\u001b[0m\u001b[37m\u001b[0m \u001b[1m77s\u001b[0m 1s/step\n",
            "Test Accuracy: 97.28%\n",
            "Test Precision: 96.79%\n",
            "Test Recall: 97.65%\n"
          ]
        }
      ],
      "source": [
        "# Evaluate the model\n",
        "test_loss, test_accuracy = model.evaluate(X_test, y_test, batch_size=32)\n",
        "y_pred = model.predict(X_test).argmax(axis=1)\n",
        "\n",
        "# Calculate precision and recall\n",
        "precision = precision_score(y_test, y_pred)\n",
        "recall = recall_score(y_test, y_pred)\n",
        "\n",
        "print(f\"Test Accuracy: {test_accuracy * 100:.2f}%\")\n",
        "print(f\"Test Precision: {precision * 100:.2f}%\")\n",
        "print(f\"Test Recall: {recall * 100:.2f}%\")\n",
        "\n"
      ]
    },
    {
      "cell_type": "code",
      "source": [
        "from sklearn.metrics import confusion_matrix\n",
        "import seaborn as sns\n",
        "import matplotlib.pyplot as plt\n",
        "\n",
        "cm = confusion_matrix(y_test, y_pred)\n",
        "sns.heatmap(cm, annot=True, fmt=\"d\", cmap=\"Blues\", xticklabels=[\"No Tumor\", \"Tumor\"], yticklabels=[\"No Tumor\", \"Tumor\"])\n",
        "plt.xlabel(\"Predicted\")\n",
        "plt.ylabel(\"True\")\n",
        "plt.title(\"Confusion Matrix\")\n",
        "plt.show()\n"
      ],
      "metadata": {
        "colab": {
          "base_uri": "https://localhost:8080/",
          "height": 472
        },
        "id": "9ui-BtXRSWEz",
        "outputId": "557d7710-44b6-4a8b-a355-a9928cbcd44a"
      },
      "execution_count": null,
      "outputs": [
        {
          "output_type": "display_data",
          "data": {
            "text/plain": [
              "<Figure size 640x480 with 2 Axes>"
            ],
            "image/png": "[encoded data removed]"
          },
          "metadata": {}
        }
      ]
    }
  ],
  "metadata": {
    "colab": {
      "provenance": [],
      "mount_file_id": "1wtAUcXKjhRlLvuFrjqif5qbSBle33k11",
      "authorship_tag": "ABX9TyNFmVEbiEKMI0Epvasx6Q0X",
      "include_colab_link": true
    },
    "kernelspec": {
      "display_name": "Python 3",
      "name": "python3"
    },
    "language_info": {
      "name": "python"
    }
  },
  "nbformat": 4,
  "nbformat_minor": 0
}
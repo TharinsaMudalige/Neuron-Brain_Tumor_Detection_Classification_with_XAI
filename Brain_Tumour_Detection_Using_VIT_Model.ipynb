{
  "cells": [
    {
      "cell_type": "markdown",
      "metadata": {
        "id": "view-in-github",
        "colab_type": "text"
      },
      "source": [
        "<a href=\"https://colab.research.google.com/github/TharinsaMudalige/Neuron-Brain_Tumor_Detection_Classification_with_XAI/blob/Detection-Classification-VIT/Brain_Tumour_Detection_Using_VIT_Model.ipynb\" target=\"_parent\"><img src=\"https://colab.research.google.com/assets/colab-badge.svg\" alt=\"Open In Colab\"/></a>"
      ]
    },
    {
      "cell_type": "code",
      "execution_count": 2,
      "metadata": {
        "id": "rOf71xnVTk-B"
      },
      "outputs": [],
      "source": [
        "import os\n",
        "import numpy as np\n",
        "import tensorflow as tf\n",
        "from sklearn.model_selection import train_test_split\n",
        "from sklearn.metrics import precision_score, recall_score\n",
        "from sklearn.metrics import confusion_matrix\n",
        "import matplotlib.pyplot as plt\n",
        "import seaborn as sns"
      ]
    },
    {
      "cell_type": "code",
      "execution_count": null,
      "metadata": {
        "colab": {
          "base_uri": "https://localhost:8080/"
        },
        "id": "DYHZHDSfuGJ-",
        "outputId": "ea880330-f724-4c23-e6e6-fbc94b036d5c"
      },
      "outputs": [
        {
          "output_type": "stream",
          "name": "stdout",
          "text": [
            "Mounted at /content/drive\n"
          ]
        }
      ],
      "source": [
        "from google.colab import drive\n",
        "drive.mount('/content/drive')"
      ]
    },
    {
      "cell_type": "markdown",
      "metadata": {
        "id": "ga-8PhOrTu5c"
      },
      "source": [
        "Load the Dataset"
      ]
    },
    {
      "cell_type": "code",
      "execution_count": 3,
      "metadata": {
        "id": "k6EI5DPiTxV_"
      },
      "outputs": [],
      "source": [
        "# Load dataset\n",
        "def load_dataset(data_dir, target_size=(224, 224)):\n",
        "    images = []\n",
        "    labels = []\n",
        "    for label, folder in enumerate(['tumor', 'no_tumor']):\n",
        "        folder_path = os.path.join(data_dir, folder)\n",
        "        for img_file in os.listdir(folder_path):\n",
        "            img_path = os.path.join(folder_path, img_file)\n",
        "            img = tf.keras.preprocessing.image.load_img(img_path, target_size=target_size, color_mode='grayscale')\n",
        "            img = tf.keras.preprocessing.image.img_to_array(img) / 255.0  # Normalize to [0, 1]\n",
        "            images.append(img)\n",
        "            labels.append(label)\n",
        "    return np.array(images), np.array(labels)"
      ]
    },
    {
      "cell_type": "markdown",
      "metadata": {
        "id": "88w_3nVTT-7Y"
      },
      "source": [
        "Define the Vision Transformer Model (ViT)"
      ]
    },
    {
      "cell_type": "code",
      "execution_count": 4,
      "metadata": {
        "id": "76lfRMQfUF7J"
      },
      "outputs": [],
      "source": [
        "# Patches layer\n",
        "class Patches(tf.keras.layers.Layer):\n",
        "    def __init__(self, patch_size):\n",
        "        super(Patches, self).__init__()\n",
        "        self.patch_size = patch_size\n",
        "\n",
        "    def call(self, images):\n",
        "        patches = tf.image.extract_patches(\n",
        "            images=images,\n",
        "            sizes=[1, self.patch_size, self.patch_size, 1],\n",
        "            strides=[1, self.patch_size, self.patch_size, 1],\n",
        "            rates=[1, 1, 1, 1],\n",
        "            padding=\"VALID\",\n",
        "        )\n",
        "        batch_size = tf.shape(images)[0]\n",
        "        num_patches = (images.shape[1] // self.patch_size) * (images.shape[2] // self.patch_size)\n",
        "        patch_dims = patches.shape[-1]\n",
        "        return tf.reshape(patches, [batch_size, num_patches, patch_dims])\n",
        "\n",
        "# Self-attention mechanism\n",
        "class SelfAttention(tf.keras.layers.Layer):\n",
        "    def __init__(self, embed_dim, num_heads):\n",
        "        super(SelfAttention, self).__init__()\n",
        "        self.embed_dim = embed_dim\n",
        "        self.num_heads = num_heads\n",
        "        self.projection_dim = embed_dim // num_heads\n",
        "\n",
        "        self.query_dense = tf.keras.layers.Dense(embed_dim)\n",
        "        self.key_dense = tf.keras.layers.Dense(embed_dim)\n",
        "        self.value_dense = tf.keras.layers.Dense(embed_dim)\n",
        "        self.combine_heads = tf.keras.layers.Dense(embed_dim)\n",
        "\n",
        "    def split_heads(self, inputs, batch_size):\n",
        "        inputs = tf.reshape(inputs, (batch_size, -1, self.num_heads, self.projection_dim))\n",
        "        return tf.transpose(inputs, perm=[0, 2, 1, 3])\n",
        "\n",
        "    def call(self, inputs):\n",
        "        batch_size = tf.shape(inputs)[0]\n",
        "        query = self.split_heads(self.query_dense(inputs), batch_size)\n",
        "        key = self.split_heads(self.key_dense(inputs), batch_size)\n",
        "        value = self.split_heads(self.value_dense(inputs), batch_size)\n",
        "\n",
        "        score = tf.matmul(query, key, transpose_b=True) / tf.math.sqrt(float(self.projection_dim))\n",
        "        weights = tf.nn.softmax(score, axis=-1)\n",
        "        attention = tf.matmul(weights, value)\n",
        "\n",
        "        attention = tf.transpose(attention, perm=[0, 2, 1, 3])\n",
        "        concat_attention = tf.reshape(attention, (batch_size, -1, self.embed_dim))\n",
        "        return self.combine_heads(concat_attention)\n",
        "\n",
        "# Transformer block\n",
        "class TransformerBlock(tf.keras.layers.Layer):\n",
        "    def __init__(self, embed_dim, num_heads, ff_dim, rate=0.1):\n",
        "        super(TransformerBlock, self).__init__()\n",
        "        self.attention = SelfAttention(embed_dim, num_heads)\n",
        "        self.ffn = tf.keras.Sequential([\n",
        "            tf.keras.layers.Dense(ff_dim, activation='relu'),\n",
        "            tf.keras.layers.Dense(embed_dim)\n",
        "        ])\n",
        "        self.layernorm1 = tf.keras.layers.LayerNormalization(epsilon=1e-6)\n",
        "        self.layernorm2 = tf.keras.layers.LayerNormalization(epsilon=1e-6)\n",
        "        self.dropout1 = tf.keras.layers.Dropout(rate)\n",
        "        self.dropout2 = tf.keras.layers.Dropout(rate)\n",
        "\n",
        "    def call(self, inputs, training=False):\n",
        "        attn_output = self.attention(inputs)\n",
        "        attn_output = self.dropout1(attn_output, training=training)\n",
        "        out1 = self.layernorm1(inputs + attn_output)\n",
        "        ffn_output = self.ffn(out1)\n",
        "        ffn_output = self.dropout2(ffn_output, training=training)\n",
        "        return self.layernorm2(out1 + ffn_output)\n",
        "\n",
        "# Patch encoder\n",
        "class PatchEncoder(tf.keras.layers.Layer):\n",
        "    def __init__(self, num_patches, embed_dim):\n",
        "        super(PatchEncoder, self).__init__()\n",
        "        self.num_patches = num_patches\n",
        "        self.projection = tf.keras.layers.Dense(embed_dim)\n",
        "        self.position_embedding = tf.keras.layers.Embedding(input_dim=num_patches, output_dim=embed_dim)\n",
        "\n",
        "    def call(self, patches):\n",
        "        positions = tf.range(start=0, limit=self.num_patches, delta=1)\n",
        "        return self.projection(patches) + self.position_embedding(positions)\n",
        "\n",
        "# Create the Vision Transformer model\n",
        "def create_vit_model(input_shape, num_classes=2, patch_size=16, embed_dim=256, num_heads=8, ff_dim=512, num_layers=4):\n",
        "    inputs = tf.keras.layers.Input(shape=input_shape)\n",
        "    patches = Patches(patch_size)(inputs)\n",
        "    num_patches = (input_shape[0] // patch_size) * (input_shape[1] // patch_size)\n",
        "    encoded_patches = PatchEncoder(num_patches, embed_dim)(patches)\n",
        "\n",
        "    for _ in range(num_layers):\n",
        "        encoded_patches = TransformerBlock(embed_dim, num_heads, ff_dim)(encoded_patches)\n",
        "\n",
        "    x = tf.keras.layers.GlobalAveragePooling1D()(encoded_patches)\n",
        "    x = tf.keras.layers.Dense(128, activation=\"relu\")(x)\n",
        "    x = tf.keras.layers.Dropout(0.5)(x)\n",
        "    outputs = tf.keras.layers.Dense(num_classes, activation=\"softmax\")(x)\n",
        "\n",
        "    return tf.keras.Model(inputs, outputs)"
      ]
    },
    {
      "cell_type": "markdown",
      "metadata": {
        "id": "B6MmlwDPULxL"
      },
      "source": [
        "Load and Prepare the Dataset"
      ]
    },
    {
      "cell_type": "code",
      "execution_count": 5,
      "metadata": {
        "id": "_BgK7ZxnUP8j"
      },
      "outputs": [],
      "source": [
        "data_dir = \"/content/drive/MyDrive/DSGP_BrainTumorDetection/DSGP_Preprocessed_Images\"\n",
        "input_shape = (224, 224, 1)\n"
      ]
    },
    {
      "cell_type": "markdown",
      "metadata": {
        "id": "dZ2bL4GQUSwN"
      },
      "source": [
        "Split the data into Training and Testing Sets"
      ]
    },
    {
      "cell_type": "code",
      "execution_count": 6,
      "metadata": {
        "colab": {
          "base_uri": "https://localhost:8080/"
        },
        "id": "nRia-MarUaJo",
        "outputId": "8ca9a295-c804-4121-8f75-9bb8bc5e0c82"
      },
      "outputs": [
        {
          "output_type": "stream",
          "name": "stdout",
          "text": [
            "Train shape: (4292, 224, 224, 1), Test shape: (1840, 224, 224, 1)\n"
          ]
        }
      ],
      "source": [
        "X, y = load_dataset(data_dir, target_size=(224, 224))\n",
        "X_train, X_test, y_train, y_test = train_test_split(X, y, test_size=0.3, random_state=42)\n",
        "\n",
        "print(f\"Train shape: {X_train.shape}, Test shape: {X_test.shape}\")\n"
      ]
    },
    {
      "cell_type": "markdown",
      "metadata": {
        "id": "TTnAGLNdUiu3"
      },
      "source": [
        "Create and Compile the ViT Model"
      ]
    },
    {
      "cell_type": "markdown",
      "metadata": {
        "id": "CnORaqQpUsJd"
      },
      "source": [
        "Compile the Model"
      ]
    },
    {
      "cell_type": "code",
      "execution_count": 7,
      "metadata": {
        "colab": {
          "base_uri": "https://localhost:8080/"
        },
        "id": "QwCFPdGUUu9A",
        "outputId": "e99afe81-4276-4dfb-cfa9-db33e45e0b61"
      },
      "outputs": [
        {
          "output_type": "stream",
          "name": "stdout",
          "text": [
            "Model created successfully.\n"
          ]
        }
      ],
      "source": [
        "# Create the model\n",
        "model = create_vit_model(input_shape=input_shape, num_classes=2)\n",
        "model.compile(optimizer=tf.keras.optimizers.Adam(learning_rate=0.0001),\n",
        "              loss=\"sparse_categorical_crossentropy\",\n",
        "              metrics=[\"accuracy\"])\n",
        "\n",
        "print(\"Model created successfully.\")\n"
      ]
    },
    {
      "cell_type": "markdown",
      "metadata": {
        "id": "ignOXywZU1wV"
      },
      "source": [
        "Train the Model"
      ]
    },
    {
      "cell_type": "code",
      "execution_count": 8,
      "metadata": {
        "colab": {
          "base_uri": "https://localhost:8080/"
        },
        "id": "vAnNWW1qU4nT",
        "outputId": "440c0752-7dea-4708-d819-44f4641d729e"
      },
      "outputs": [
        {
          "output_type": "stream",
          "name": "stdout",
          "text": [
            "Epoch 1/10\n",
            "\u001b[1m135/135\u001b[0m \u001b[32m━━━━━━━━━━━━━━━━━━━━\u001b[0m\u001b[37m\u001b[0m \u001b[1m485s\u001b[0m 3s/step - accuracy: 0.5252 - loss: 0.7633 - val_accuracy: 0.6299 - val_loss: 0.6209\n",
            "Epoch 2/10\n",
            "\u001b[1m135/135\u001b[0m \u001b[32m━━━━━━━━━━━━━━━━━━━━\u001b[0m\u001b[37m\u001b[0m \u001b[1m483s\u001b[0m 3s/step - accuracy: 0.6754 - loss: 0.6074 - val_accuracy: 0.7701 - val_loss: 0.4921\n",
            "Epoch 3/10\n",
            "\u001b[1m135/135\u001b[0m \u001b[32m━━━━━━━━━━━━━━━━━━━━\u001b[0m\u001b[37m\u001b[0m \u001b[1m509s\u001b[0m 3s/step - accuracy: 0.8022 - loss: 0.4589 - val_accuracy: 0.7788 - val_loss: 0.5349\n",
            "Epoch 4/10\n",
            "\u001b[1m135/135\u001b[0m \u001b[32m━━━━━━━━━━━━━━━━━━━━\u001b[0m\u001b[37m\u001b[0m \u001b[1m527s\u001b[0m 4s/step - accuracy: 0.8501 - loss: 0.3683 - val_accuracy: 0.8837 - val_loss: 0.2959\n",
            "Epoch 5/10\n",
            "\u001b[1m135/135\u001b[0m \u001b[32m━━━━━━━━━━━━━━━━━━━━\u001b[0m\u001b[37m\u001b[0m \u001b[1m501s\u001b[0m 4s/step - accuracy: 0.9007 - loss: 0.2701 - val_accuracy: 0.8891 - val_loss: 0.2669\n",
            "Epoch 6/10\n",
            "\u001b[1m135/135\u001b[0m \u001b[32m━━━━━━━━━━━━━━━━━━━━\u001b[0m\u001b[37m\u001b[0m \u001b[1m501s\u001b[0m 4s/step - accuracy: 0.9199 - loss: 0.2184 - val_accuracy: 0.9185 - val_loss: 0.2335\n",
            "Epoch 7/10\n",
            "\u001b[1m135/135\u001b[0m \u001b[32m━━━━━━━━━━━━━━━━━━━━\u001b[0m\u001b[37m\u001b[0m \u001b[1m448s\u001b[0m 3s/step - accuracy: 0.9258 - loss: 0.2098 - val_accuracy: 0.9353 - val_loss: 0.1893\n",
            "Epoch 8/10\n",
            "\u001b[1m135/135\u001b[0m \u001b[32m━━━━━━━━━━━━━━━━━━━━\u001b[0m\u001b[37m\u001b[0m \u001b[1m451s\u001b[0m 3s/step - accuracy: 0.9387 - loss: 0.1639 - val_accuracy: 0.9293 - val_loss: 0.2070\n",
            "Epoch 9/10\n",
            "\u001b[1m135/135\u001b[0m \u001b[32m━━━━━━━━━━━━━━━━━━━━\u001b[0m\u001b[37m\u001b[0m \u001b[1m500s\u001b[0m 3s/step - accuracy: 0.9477 - loss: 0.1523 - val_accuracy: 0.9315 - val_loss: 0.1991\n",
            "Epoch 10/10\n",
            "\u001b[1m135/135\u001b[0m \u001b[32m━━━━━━━━━━━━━━━━━━━━\u001b[0m\u001b[37m\u001b[0m \u001b[1m499s\u001b[0m 3s/step - accuracy: 0.9523 - loss: 0.1313 - val_accuracy: 0.9424 - val_loss: 0.1827\n"
          ]
        }
      ],
      "source": [
        "# Train the model\n",
        "history = model.fit(X_train, y_train, epochs=10, batch_size=32, validation_data=(X_test, y_test))"
      ]
    },
    {
      "cell_type": "markdown",
      "metadata": {
        "id": "BkndGXn-U97Z"
      },
      "source": [
        "Evaluate the Model"
      ]
    },
    {
      "cell_type": "code",
      "execution_count": 9,
      "metadata": {
        "colab": {
          "base_uri": "https://localhost:8080/"
        },
        "id": "-4FLR4k_VDiM",
        "outputId": "48d7a1c0-ccff-44ab-a8ae-c0b5fa9b09d4"
      },
      "outputs": [
        {
          "output_type": "stream",
          "name": "stdout",
          "text": [
            "\u001b[1m58/58\u001b[0m \u001b[32m━━━━━━━━━━━━━━━━━━━━\u001b[0m\u001b[37m\u001b[0m \u001b[1m54s\u001b[0m 927ms/step - accuracy: 0.9385 - loss: 0.2014\n",
            "\u001b[1m58/58\u001b[0m \u001b[32m━━━━━━━━━━━━━━━━━━━━\u001b[0m\u001b[37m\u001b[0m \u001b[1m56s\u001b[0m 932ms/step\n",
            "Test Accuracy: 94.24%\n",
            "Test Precision: 91.66%\n",
            "Test Recall: 96.98%\n"
          ]
        }
      ],
      "source": [
        "# Evaluate the model\n",
        "test_loss, test_accuracy = model.evaluate(X_test, y_test, batch_size=32)\n",
        "y_pred = model.predict(X_test).argmax(axis=1)\n",
        "\n",
        "# Precision and recall\n",
        "precision = precision_score(y_test, y_pred)\n",
        "recall = recall_score(y_test, y_pred)\n",
        "\n",
        "print(f\"Test Accuracy: {test_accuracy * 100:.2f}%\")\n",
        "print(f\"Test Precision: {precision * 100:.2f}%\")\n",
        "print(f\"Test Recall: {recall * 100:.2f}%\")\n"
      ]
    },
    {
      "cell_type": "code",
      "source": [
        "# Confusion matrix\n",
        "cm = confusion_matrix(y_test, y_pred)\n",
        "sns.heatmap(cm, annot=True, fmt=\"d\", cmap=\"Blues\", xticklabels=[\"No Tumor\", \"Tumor\"], yticklabels=[\"No Tumor\", \"Tumor\"])\n",
        "plt.xlabel(\"Predicted\")\n",
        "plt.ylabel(\"True\")\n",
        "plt.title(\"Confusion Matrix\")\n",
        "plt.show()"
      ],
      "metadata": {
        "colab": {
          "base_uri": "https://localhost:8080/",
          "height": 472
        },
        "id": "9ui-BtXRSWEz",
        "outputId": "84fe9ac9-4e0d-40e6-df49-fb7212979a07"
      },
      "execution_count": 10,
      "outputs": [
        {
          "output_type": "display_data",
          "data": {
            "text/plain": [
              "<Figure size 640x480 with 2 Axes>"
            ],
            "image/png": "[encoded data removed]"
          },
          "metadata": {}
        }
      ]
    }
  ],
  "metadata": {
    "colab": {
      "provenance": [],
      "mount_file_id": "1wtAUcXKjhRlLvuFrjqif5qbSBle33k11",
      "authorship_tag": "ABX9TyOBJh9clg0z/ScQL4gQshKD",
      "include_colab_link": true
    },
    "kernelspec": {
      "display_name": "Python 3",
      "name": "python3"
    },
    "language_info": {
      "name": "python"
    }
  },
  "nbformat": 4,
  "nbformat_minor": 0
}
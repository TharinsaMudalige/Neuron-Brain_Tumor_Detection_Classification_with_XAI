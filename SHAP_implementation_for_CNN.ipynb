{
  "nbformat": 4,
  "nbformat_minor": 0,
  "metadata": {
    "colab": {
      "provenance": [],
      "authorship_tag": "ABX9TyO48t+ZdChSyN+2ZiVDlhCc",
      "include_colab_link": true
    },
    "kernelspec": {
      "name": "python3",
      "display_name": "Python 3"
    },
    "language_info": {
      "name": "python"
    }
  },
  "cells": [
    {
      "cell_type": "markdown",
      "metadata": {
        "id": "view-in-github",
        "colab_type": "text"
      },
      "source": [
        "<a href=\"https://colab.research.google.com/github/TharinsaMudalige/Neuron-Brain_Tumor_Detection_Classification_with_XAI/blob/Explainable-AI/SHAP_implementation_for_CNN.ipynb\" target=\"_parent\"><img src=\"https://colab.research.google.com/assets/colab-badge.svg\" alt=\"Open In Colab\"/></a>"
      ]
    },
    {
      "cell_type": "code",
      "source": [
        "from google.colab import drive\n",
        "drive.mount('/content/drive')"
      ],
      "metadata": {
        "colab": {
          "base_uri": "https://localhost:8080/"
        },
        "id": "AVZtBk8sETX9",
        "outputId": "cd7710f6-a67d-440f-b391-445613be055a"
      },
      "execution_count": 1,
      "outputs": [
        {
          "output_type": "stream",
          "name": "stdout",
          "text": [
            "Mounted at /content/drive\n"
          ]
        }
      ]
    },
    {
      "cell_type": "code",
      "source": [
        "import shap\n",
        "import numpy as np\n",
        "import tensorflow as tf\n",
        "from tensorflow.keras.models import load_model\n",
        "from tensorflow.keras.preprocessing.image import ImageDataGenerator\n",
        "import matplotlib.pyplot as plt\n",
        "import os\n",
        "import cv2\n",
        "from sklearn.model_selection import train_test_split"
      ],
      "metadata": {
        "id": "59GEUOtAJRzy"
      },
      "execution_count": 17,
      "outputs": []
    },
    {
      "cell_type": "code",
      "source": [
        "# Load your trained model\n",
        "model = load_model('/content/drive/My Drive/tumor_model/model_v1.h5')"
      ],
      "metadata": {
        "id": "sD-zth7EJe4k",
        "colab": {
          "base_uri": "https://localhost:8080/"
        },
        "outputId": "79971fa7-d3fc-4622-a5d3-b70481216989"
      },
      "execution_count": 3,
      "outputs": [
        {
          "output_type": "stream",
          "name": "stderr",
          "text": [
            "WARNING:absl:Compiled the loaded model, but the compiled metrics have yet to be built. `model.compile_metrics` will be empty until you train or evaluate the model.\n"
          ]
        }
      ]
    },
    {
      "cell_type": "code",
      "source": [
        "# Dataset path\n",
        "dataset_path = \"/content/drive/MyDrive/Dataset Copy/Train\"\n",
        "\n",
        "target_size = (224, 224)\n",
        "channels = 3\n",
        "\n",
        "# Initialize arrays to hold data and labels\n",
        "images = []\n",
        "labels = []\n",
        "\n",
        "# Map class names to numeric labels\n",
        "class_mapping = {\"Glioma\": 0, \"Meningioma\": 1, \"Pituitary\": 2}\n",
        "\n",
        "# Load and preprocess the dataset\n",
        "for class_name, label in class_mapping.items():\n",
        "    class_path = os.path.join(dataset_path, class_name)\n",
        "    for img_name in os.listdir(class_path):\n",
        "        img_path = os.path.join(class_path, img_name)\n",
        "        # Read the image\n",
        "        img = cv2.imread(img_path)\n",
        "        if img is not None:\n",
        "            img = cv2.resize(img, target_size)\n",
        "            if channels == 3 and img.shape[-1] == 3:\n",
        "                images.append(img)\n",
        "                labels.append(label)"
      ],
      "metadata": {
        "id": "SnwjHQqXRDNB"
      },
      "execution_count": 18,
      "outputs": []
    },
    {
      "cell_type": "code",
      "source": [
        "# Convert to numpy arrays\n",
        "images = np.array(images, dtype=np.float32) / 255.0  # Normalize pixel values\n",
        "labels = np.array(labels, dtype=np.int32)\n",
        "\n",
        "# Split into train and test sets\n",
        "x_train, x_test, y_train, y_test = train_test_split(images, labels, test_size=0.3, random_state=42)\n",
        "\n",
        "print(f\"x_train: {x_train.shape}\")\n",
        "print(f\"x_test: {x_test.shape}\")\n",
        "print(f\"y_train: {y_train.shape}\")\n",
        "print(f\"y_test: {y_test.shape}\")"
      ],
      "metadata": {
        "colab": {
          "base_uri": "https://localhost:8080/"
        },
        "id": "nHOKnyr2RrvP",
        "outputId": "5542b709-ac39-44e4-ce87-41c381a501e2"
      },
      "execution_count": 19,
      "outputs": [
        {
          "output_type": "stream",
          "name": "stdout",
          "text": [
            "x_train: (1029, 224, 224, 3)\n",
            "x_test: (441, 224, 224, 3)\n",
            "y_train: (1029,)\n",
            "y_test: (441,)\n"
          ]
        }
      ]
    },
    {
      "cell_type": "code",
      "source": [
        "y_hat=model.predict(x_test)\n",
        "print('Acc=',np.sum(y_hat.argmax(1)==y_test)/y_test.shape[0])"
      ],
      "metadata": {
        "colab": {
          "base_uri": "https://localhost:8080/"
        },
        "id": "m-bn9fhaR4Nt",
        "outputId": "b4f16506-492f-4be1-c7ce-6669e1233c47"
      },
      "execution_count": 20,
      "outputs": [
        {
          "output_type": "stream",
          "name": "stdout",
          "text": [
            "\u001b[1m14/14\u001b[0m \u001b[32m━━━━━━━━━━━━━━━━━━━━\u001b[0m\u001b[37m\u001b[0m \u001b[1m19s\u001b[0m 1s/step\n",
            "Acc= 0.9954648526077098\n"
          ]
        }
      ]
    }
  ]
}
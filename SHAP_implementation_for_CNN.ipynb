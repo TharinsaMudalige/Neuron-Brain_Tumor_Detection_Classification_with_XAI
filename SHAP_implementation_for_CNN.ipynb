{
  "nbformat": 4,
  "nbformat_minor": 0,
  "metadata": {
    "colab": {
      "provenance": [],
      "authorship_tag": "ABX9TyPQ/cT41PXlVGsSYGu3Pzwz",
      "include_colab_link": true
    },
    "kernelspec": {
      "name": "python3",
      "display_name": "Python 3"
    },
    "language_info": {
      "name": "python"
    }
  },
  "cells": [
    {
      "cell_type": "markdown",
      "metadata": {
        "id": "view-in-github",
        "colab_type": "text"
      },
      "source": [
        "<a href=\"https://colab.research.google.com/github/TharinsaMudalige/Neuron-Brain_Tumor_Detection_Classification_with_XAI/blob/Explainable-AI/SHAP_implementation_for_CNN.ipynb\" target=\"_parent\"><img src=\"https://colab.research.google.com/assets/colab-badge.svg\" alt=\"Open In Colab\"/></a>"
      ]
    },
    {
      "cell_type": "code",
      "source": [
        "from google.colab import drive\n",
        "drive.mount('/content/drive')"
      ],
      "metadata": {
        "colab": {
          "base_uri": "https://localhost:8080/"
        },
        "id": "AVZtBk8sETX9",
        "outputId": "1bfde97a-1a84-4582-b285-7b7f5ca7176e"
      },
      "execution_count": 1,
      "outputs": [
        {
          "output_type": "stream",
          "name": "stdout",
          "text": [
            "Mounted at /content/drive\n"
          ]
        }
      ]
    },
    {
      "cell_type": "code",
      "source": [
        "import shap\n",
        "import numpy as np\n",
        "import tensorflow as tf\n",
        "from tensorflow.keras.models import load_model\n",
        "from tensorflow.keras.preprocessing.image import ImageDataGenerator\n",
        "import matplotlib.pyplot as plt"
      ],
      "metadata": {
        "id": "59GEUOtAJRzy"
      },
      "execution_count": null,
      "outputs": []
    },
    {
      "cell_type": "code",
      "source": [
        "# Load your trained model\n",
        "model = load_model('/content/drive/My Drive/tumor_model/model_v1.h5')"
      ],
      "metadata": {
        "id": "sD-zth7EJe4k"
      },
      "execution_count": null,
      "outputs": []
    },
    {
      "cell_type": "code",
      "source": [
        "# Path to the dataset\n",
        "dataset_path = \"\"\n",
        "\n",
        "# Target image size\n",
        "target_size = (224, 224)\n",
        "\n",
        "# Image preprocessing for model input\n",
        "datagen = ImageDataGenerator(rescale=1.0/255)  # Rescale pixel values to [0, 1]\n",
        "\n",
        "# Load a batch of images\n",
        "generator = datagen.flow_from_directory(\n",
        "    dataset_path,\n",
        "    target_size=target_size,  # Ensure images are resized to (224, 224)\n",
        "    batch_size=10,  # Adjust as needed\n",
        "    class_mode='categorical',\n",
        "    shuffle=True\n",
        ")"
      ],
      "metadata": {
        "id": "eNwhsFIeJi2E"
      },
      "execution_count": null,
      "outputs": []
    },
    {
      "cell_type": "code",
      "source": [
        "# Get a batch of images and their labels\n",
        "X_batch, y_batch = next(generator)\n",
        "class_names = list(generator.class_indices.keys())  # Class names from the generator\n",
        "\n",
        "# Select a single image or a batch for SHAP visualization\n",
        "X = X_batch[:3]  # Example: using the first 3 images for SHAP analysis\n",
        "\n",
        "# Define a masker for the input image\n",
        "masker = shap.maskers.Image(\"inpaint_telea\", X[0].shape)\n",
        "\n",
        "# Define the model prediction function\n",
        "def model_predict(images):\n",
        "    return model.predict(images)\n",
        "\n",
        "# Create the SHAP explainer\n",
        "explainer = shap.Explainer(model_predict, masker, output_names=class_names)\n",
        "\n",
        "# Compute SHAP values for the selected images\n",
        "shap_values = explainer(X, max_evals=500, batch_size=50)\n",
        "\n",
        "# Visualize the SHAP values for the first image\n",
        "shap.image_plot(shap_values)"
      ],
      "metadata": {
        "id": "5WiSnWi_Q_zA"
      },
      "execution_count": null,
      "outputs": []
    }
  ]
}
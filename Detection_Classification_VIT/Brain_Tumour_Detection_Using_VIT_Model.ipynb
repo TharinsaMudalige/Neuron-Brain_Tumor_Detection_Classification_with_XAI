{
  "cells": [
    {
      "cell_type": "markdown",
      "metadata": {
        "id": "view-in-github",
        "colab_type": "text"
      },
      "source": [
        "<a href=\"https://colab.research.google.com/github/TharinsaMudalige/Neuron-Brain_Tumor_Detection_Classification_with_XAI/blob/Detection-Classification-VIT/Brain_Tumour_Detection_Using_VIT_Model.ipynb\" target=\"_parent\"><img src=\"https://colab.research.google.com/assets/colab-badge.svg\" alt=\"Open In Colab\"/></a>"
      ]
    },
    {
      "cell_type": "code",
      "execution_count": null,
      "metadata": {
        "id": "rOf71xnVTk-B"
      },
      "outputs": [],
      "source": [
        "import os\n",
        "import numpy as np\n",
        "import tensorflow as tf\n",
        "from sklearn.model_selection import train_test_split\n",
        "from sklearn.metrics import precision_score, recall_score\n",
        "from sklearn.metrics import confusion_matrix\n",
        "import matplotlib.pyplot as plt\n",
        "import seaborn as sns"
      ]
    },
    {
      "cell_type": "code",
      "execution_count": null,
      "metadata": {
        "colab": {
          "base_uri": "https://localhost:8080/"
        },
        "id": "DYHZHDSfuGJ-",
        "outputId": "ea880330-f724-4c23-e6e6-fbc94b036d5c"
      },
      "outputs": [
        {
          "output_type": "stream",
          "name": "stdout",
          "text": [
            "Mounted at /content/drive\n"
          ]
        }
      ],
      "source": [
        "from google.colab import drive\n",
        "drive.mount('/content/drive')"
      ]
    },
    {
      "cell_type": "markdown",
      "metadata": {
        "id": "ga-8PhOrTu5c"
      },
      "source": [
        "Load the Dataset"
      ]
    },
    {
      "cell_type": "code",
      "execution_count": null,
      "metadata": {
        "id": "k6EI5DPiTxV_"
      },
      "outputs": [],
      "source": [
        "# Load dataset\n",
        "def load_dataset(data_dir, target_size=(224, 224)):\n",
        "    images = []\n",
        "    labels = []\n",
        "    for label, folder in enumerate(['yes', 'no']):\n",
        "        folder_path = os.path.join(data_dir, folder)\n",
        "        for img_file in os.listdir(folder_path):\n",
        "            img_path = os.path.join(folder_path, img_file)\n",
        "            img = tf.keras.preprocessing.image.load_img(img_path, target_size=target_size, color_mode='grayscale')\n",
        "            img = tf.keras.preprocessing.image.img_to_array(img) / 255.0  # Normalize to [0, 1]\n",
        "            images.append(img)\n",
        "            labels.append(label)\n",
        "    return np.array(images), np.array(labels)"
      ]
    },
    {
      "cell_type": "markdown",
      "metadata": {
        "id": "88w_3nVTT-7Y"
      },
      "source": [
        "Define the Vision Transformer Model (ViT)"
      ]
    },
    {
      "cell_type": "code",
      "execution_count": null,
      "metadata": {
        "id": "76lfRMQfUF7J"
      },
      "outputs": [],
      "source": [
        "# Patches layer\n",
        "class Patches(tf.keras.layers.Layer):\n",
        "    def __init__(self, patch_size):\n",
        "        super(Patches, self).__init__()\n",
        "        self.patch_size = patch_size\n",
        "\n",
        "    def call(self, images):\n",
        "        patches = tf.image.extract_patches(\n",
        "            images=images,\n",
        "            sizes=[1, self.patch_size, self.patch_size, 1],\n",
        "            strides=[1, self.patch_size, self.patch_size, 1],\n",
        "            rates=[1, 1, 1, 1],\n",
        "            padding=\"VALID\",\n",
        "        )\n",
        "        batch_size = tf.shape(images)[0]\n",
        "        num_patches = (images.shape[1] // self.patch_size) * (images.shape[2] // self.patch_size)\n",
        "        patch_dims = patches.shape[-1]\n",
        "        return tf.reshape(patches, [batch_size, num_patches, patch_dims])\n",
        "\n",
        "# Self-attention mechanism\n",
        "class SelfAttention(tf.keras.layers.Layer):\n",
        "    def __init__(self, embed_dim, num_heads):\n",
        "        super(SelfAttention, self).__init__()\n",
        "        self.embed_dim = embed_dim\n",
        "        self.num_heads = num_heads\n",
        "        self.projection_dim = embed_dim // num_heads\n",
        "\n",
        "        self.query_dense = tf.keras.layers.Dense(embed_dim)\n",
        "        self.key_dense = tf.keras.layers.Dense(embed_dim)\n",
        "        self.value_dense = tf.keras.layers.Dense(embed_dim)\n",
        "        self.combine_heads = tf.keras.layers.Dense(embed_dim)\n",
        "\n",
        "    def split_heads(self, inputs, batch_size):\n",
        "        inputs = tf.reshape(inputs, (batch_size, -1, self.num_heads, self.projection_dim))\n",
        "        return tf.transpose(inputs, perm=[0, 2, 1, 3])\n",
        "\n",
        "    def call(self, inputs):\n",
        "        batch_size = tf.shape(inputs)[0]\n",
        "        query = self.split_heads(self.query_dense(inputs), batch_size)\n",
        "        key = self.split_heads(self.key_dense(inputs), batch_size)\n",
        "        value = self.split_heads(self.value_dense(inputs), batch_size)\n",
        "\n",
        "        score = tf.matmul(query, key, transpose_b=True) / tf.math.sqrt(float(self.projection_dim))\n",
        "        weights = tf.nn.softmax(score, axis=-1)\n",
        "        attention = tf.matmul(weights, value)\n",
        "\n",
        "        attention = tf.transpose(attention, perm=[0, 2, 1, 3])\n",
        "        concat_attention = tf.reshape(attention, (batch_size, -1, self.embed_dim))\n",
        "        return self.combine_heads(concat_attention)\n",
        "\n",
        "# Transformer block\n",
        "class TransformerBlock(tf.keras.layers.Layer):\n",
        "    def __init__(self, embed_dim, num_heads, ff_dim, rate=0.1):\n",
        "        super(TransformerBlock, self).__init__()\n",
        "        self.attention = SelfAttention(embed_dim, num_heads)\n",
        "        self.ffn = tf.keras.Sequential([\n",
        "            tf.keras.layers.Dense(ff_dim, activation='relu'),\n",
        "            tf.keras.layers.Dense(embed_dim)\n",
        "        ])\n",
        "        self.layernorm1 = tf.keras.layers.LayerNormalization(epsilon=1e-6)\n",
        "        self.layernorm2 = tf.keras.layers.LayerNormalization(epsilon=1e-6)\n",
        "        self.dropout1 = tf.keras.layers.Dropout(rate)\n",
        "        self.dropout2 = tf.keras.layers.Dropout(rate)\n",
        "\n",
        "    def call(self, inputs, training=False):\n",
        "        attn_output = self.attention(inputs)\n",
        "        attn_output = self.dropout1(attn_output, training=training)\n",
        "        out1 = self.layernorm1(inputs + attn_output)\n",
        "        ffn_output = self.ffn(out1)\n",
        "        ffn_output = self.dropout2(ffn_output, training=training)\n",
        "        return self.layernorm2(out1 + ffn_output)\n",
        "\n",
        "# Patch encoder\n",
        "class PatchEncoder(tf.keras.layers.Layer):\n",
        "    def __init__(self, num_patches, embed_dim):\n",
        "        super(PatchEncoder, self).__init__()\n",
        "        self.num_patches = num_patches\n",
        "        self.projection = tf.keras.layers.Dense(embed_dim)\n",
        "        self.position_embedding = tf.keras.layers.Embedding(input_dim=num_patches, output_dim=embed_dim)\n",
        "\n",
        "    def call(self, patches):\n",
        "        positions = tf.range(start=0, limit=self.num_patches, delta=1)\n",
        "        return self.projection(patches) + self.position_embedding(positions)\n",
        "\n",
        "# Create the Vision Transformer model\n",
        "def create_vit_model(input_shape, num_classes=2, patch_size=16, embed_dim=256, num_heads=8, ff_dim=512, num_layers=4):\n",
        "    inputs = tf.keras.layers.Input(shape=input_shape)\n",
        "    patches = Patches(patch_size)(inputs)\n",
        "    num_patches = (input_shape[0] // patch_size) * (input_shape[1] // patch_size)\n",
        "    encoded_patches = PatchEncoder(num_patches, embed_dim)(patches)\n",
        "\n",
        "    for _ in range(num_layers):\n",
        "        encoded_patches = TransformerBlock(embed_dim, num_heads, ff_dim)(encoded_patches)\n",
        "\n",
        "    x = tf.keras.layers.GlobalAveragePooling1D()(encoded_patches)\n",
        "    x = tf.keras.layers.Dense(128, activation=\"relu\")(x)\n",
        "    x = tf.keras.layers.Dropout(0.5)(x)\n",
        "    outputs = tf.keras.layers.Dense(num_classes, activation=\"softmax\")(x)\n",
        "\n",
        "    return tf.keras.Model(inputs, outputs)"
      ]
    },
    {
      "cell_type": "markdown",
      "metadata": {
        "id": "B6MmlwDPULxL"
      },
      "source": [
        "Load and Prepare the Dataset"
      ]
    },
    {
      "cell_type": "code",
      "execution_count": null,
      "metadata": {
        "id": "_BgK7ZxnUP8j"
      },
      "outputs": [],
      "source": [
        "data_dir = \"/content/drive/MyDrive/DSGP_BrainTumorDetection/Detection_Preprocessed_Dataset_classes_morepreprocess_techniques\"\n",
        "input_shape = (224, 224, 1)\n"
      ]
    },
    {
      "cell_type": "markdown",
      "metadata": {
        "id": "dZ2bL4GQUSwN"
      },
      "source": [
        "Split the data into Training and Testing Sets"
      ]
    },
    {
      "cell_type": "code",
      "execution_count": null,
      "metadata": {
        "colab": {
          "base_uri": "https://localhost:8080/"
        },
        "id": "nRia-MarUaJo",
        "outputId": "3b4b2457-a902-4966-a32d-2f377ef4d4e0"
      },
      "outputs": [
        {
          "output_type": "stream",
          "name": "stdout",
          "text": [
            "Train shape: (2114, 224, 224, 1), Test shape: (906, 224, 224, 1)\n"
          ]
        }
      ],
      "source": [
        "X, y = load_dataset(data_dir, target_size=(224, 224))\n",
        "X_train, X_test, y_train, y_test = train_test_split(X, y, test_size=0.3, random_state=42)\n",
        "\n",
        "print(f\"Train shape: {X_train.shape}, Test shape: {X_test.shape}\")\n"
      ]
    },
    {
      "cell_type": "markdown",
      "metadata": {
        "id": "TTnAGLNdUiu3"
      },
      "source": [
        "Create and Compile the ViT Model"
      ]
    },
    {
      "cell_type": "markdown",
      "metadata": {
        "id": "CnORaqQpUsJd"
      },
      "source": [
        "Compile the Model"
      ]
    },
    {
      "cell_type": "code",
      "execution_count": null,
      "metadata": {
        "colab": {
          "base_uri": "https://localhost:8080/"
        },
        "id": "QwCFPdGUUu9A",
        "outputId": "1da12210-989a-40fa-944c-0da9fc35f1f0"
      },
      "outputs": [
        {
          "output_type": "stream",
          "name": "stdout",
          "text": [
            "Model created successfully.\n"
          ]
        }
      ],
      "source": [
        "# Create the model\n",
        "model = create_vit_model(input_shape=input_shape, num_classes=2)\n",
        "model.compile(optimizer=tf.keras.optimizers.Adam(learning_rate=0.0001),\n",
        "              loss=\"sparse_categorical_crossentropy\",\n",
        "              metrics=[\"accuracy\"])\n",
        "\n",
        "print(\"Model created successfully.\")\n"
      ]
    },
    {
      "cell_type": "markdown",
      "metadata": {
        "id": "ignOXywZU1wV"
      },
      "source": [
        "Train the Model"
      ]
    },
    {
      "cell_type": "code",
      "execution_count": null,
      "metadata": {
        "colab": {
          "base_uri": "https://localhost:8080/"
        },
        "id": "vAnNWW1qU4nT",
        "outputId": "ab40fb3c-fbf5-49f2-cc53-24556b4add71"
      },
      "outputs": [
        {
          "output_type": "stream",
          "name": "stdout",
          "text": [
            "Epoch 1/20\n",
            "\u001b[1m67/67\u001b[0m \u001b[32m━━━━━━━━━━━━━━━━━━━━\u001b[0m\u001b[37m\u001b[0m \u001b[1m253s\u001b[0m 4s/step - accuracy: 0.5270 - loss: 0.8551 - val_accuracy: 0.5574 - val_loss: 0.6897\n",
            "Epoch 2/20\n",
            "\u001b[1m67/67\u001b[0m \u001b[32m━━━━━━━━━━━━━━━━━━━━\u001b[0m\u001b[37m\u001b[0m \u001b[1m235s\u001b[0m 4s/step - accuracy: 0.5398 - loss: 0.6918 - val_accuracy: 0.5629 - val_loss: 0.6685\n",
            "Epoch 3/20\n",
            "\u001b[1m67/67\u001b[0m \u001b[32m━━━━━━━━━━━━━━━━━━━━\u001b[0m\u001b[37m\u001b[0m \u001b[1m235s\u001b[0m 4s/step - accuracy: 0.5478 - loss: 0.6817 - val_accuracy: 0.4901 - val_loss: 0.7073\n",
            "Epoch 4/20\n",
            "\u001b[1m67/67\u001b[0m \u001b[32m━━━━━━━━━━━━━━━━━━━━\u001b[0m\u001b[37m\u001b[0m \u001b[1m264s\u001b[0m 4s/step - accuracy: 0.5514 - loss: 0.6866 - val_accuracy: 0.6402 - val_loss: 0.6415\n",
            "Epoch 5/20\n",
            "\u001b[1m67/67\u001b[0m \u001b[32m━━━━━━━━━━━━━━━━━━━━\u001b[0m\u001b[37m\u001b[0m \u001b[1m259s\u001b[0m 4s/step - accuracy: 0.6009 - loss: 0.6517 - val_accuracy: 0.6446 - val_loss: 0.6239\n",
            "Epoch 6/20\n",
            "\u001b[1m67/67\u001b[0m \u001b[32m━━━━━━━━━━━━━━━━━━━━\u001b[0m\u001b[37m\u001b[0m \u001b[1m260s\u001b[0m 3s/step - accuracy: 0.6454 - loss: 0.6138 - val_accuracy: 0.6821 - val_loss: 0.5814\n",
            "Epoch 7/20\n",
            "\u001b[1m67/67\u001b[0m \u001b[32m━━━━━━━━━━━━━━━━━━━━\u001b[0m\u001b[37m\u001b[0m \u001b[1m231s\u001b[0m 3s/step - accuracy: 0.7075 - loss: 0.5684 - val_accuracy: 0.7726 - val_loss: 0.5219\n",
            "Epoch 8/20\n",
            "\u001b[1m67/67\u001b[0m \u001b[32m━━━━━━━━━━━━━━━━━━━━\u001b[0m\u001b[37m\u001b[0m \u001b[1m263s\u001b[0m 3s/step - accuracy: 0.7239 - loss: 0.5360 - val_accuracy: 0.7373 - val_loss: 0.5391\n",
            "Epoch 9/20\n",
            "\u001b[1m67/67\u001b[0m \u001b[32m━━━━━━━━━━━━━━━━━━━━\u001b[0m\u001b[37m\u001b[0m \u001b[1m232s\u001b[0m 3s/step - accuracy: 0.7569 - loss: 0.5034 - val_accuracy: 0.7274 - val_loss: 0.5916\n",
            "Epoch 10/20\n",
            "\u001b[1m67/67\u001b[0m \u001b[32m━━━━━━━━━━━━━━━━━━━━\u001b[0m\u001b[37m\u001b[0m \u001b[1m232s\u001b[0m 3s/step - accuracy: 0.7670 - loss: 0.4847 - val_accuracy: 0.7848 - val_loss: 0.4460\n",
            "Epoch 11/20\n",
            "\u001b[1m67/67\u001b[0m \u001b[32m━━━━━━━━━━━━━━━━━━━━\u001b[0m\u001b[37m\u001b[0m \u001b[1m231s\u001b[0m 3s/step - accuracy: 0.8169 - loss: 0.4091 - val_accuracy: 0.8499 - val_loss: 0.3485\n",
            "Epoch 12/20\n",
            "\u001b[1m67/67\u001b[0m \u001b[32m━━━━━━━━━━━━━━━━━━━━\u001b[0m\u001b[37m\u001b[0m \u001b[1m261s\u001b[0m 3s/step - accuracy: 0.8586 - loss: 0.3305 - val_accuracy: 0.7715 - val_loss: 0.5373\n",
            "Epoch 13/20\n",
            "\u001b[1m67/67\u001b[0m \u001b[32m━━━━━━━━━━━━━━━━━━━━\u001b[0m\u001b[37m\u001b[0m \u001b[1m262s\u001b[0m 3s/step - accuracy: 0.8503 - loss: 0.3441 - val_accuracy: 0.8830 - val_loss: 0.2876\n",
            "Epoch 14/20\n",
            "\u001b[1m67/67\u001b[0m \u001b[32m━━━━━━━━━━━━━━━━━━━━\u001b[0m\u001b[37m\u001b[0m \u001b[1m232s\u001b[0m 3s/step - accuracy: 0.9211 - loss: 0.2278 - val_accuracy: 0.8587 - val_loss: 0.3973\n",
            "Epoch 15/20\n",
            "\u001b[1m67/67\u001b[0m \u001b[32m━━━━━━━━━━━━━━━━━━━━\u001b[0m\u001b[37m\u001b[0m \u001b[1m275s\u001b[0m 4s/step - accuracy: 0.9270 - loss: 0.2084 - val_accuracy: 0.9227 - val_loss: 0.2418\n",
            "Epoch 16/20\n",
            "\u001b[1m67/67\u001b[0m \u001b[32m━━━━━━━━━━━━━━━━━━━━\u001b[0m\u001b[37m\u001b[0m \u001b[1m248s\u001b[0m 3s/step - accuracy: 0.9434 - loss: 0.1532 - val_accuracy: 0.9603 - val_loss: 0.1563\n",
            "Epoch 17/20\n",
            "\u001b[1m67/67\u001b[0m \u001b[32m━━━━━━━━━━━━━━━━━━━━\u001b[0m\u001b[37m\u001b[0m \u001b[1m231s\u001b[0m 3s/step - accuracy: 0.9599 - loss: 0.1265 - val_accuracy: 0.9404 - val_loss: 0.2056\n",
            "Epoch 18/20\n",
            "\u001b[1m67/67\u001b[0m \u001b[32m━━━━━━━━━━━━━━━━━━━━\u001b[0m\u001b[37m\u001b[0m \u001b[1m234s\u001b[0m 4s/step - accuracy: 0.9713 - loss: 0.0773 - val_accuracy: 0.9492 - val_loss: 0.2250\n",
            "Epoch 19/20\n",
            "\u001b[1m67/67\u001b[0m \u001b[32m━━━━━━━━━━━━━━━━━━━━\u001b[0m\u001b[37m\u001b[0m \u001b[1m275s\u001b[0m 4s/step - accuracy: 0.9637 - loss: 0.0969 - val_accuracy: 0.9481 - val_loss: 0.1686\n",
            "Epoch 20/20\n",
            "\u001b[1m67/67\u001b[0m \u001b[32m━━━━━━━━━━━━━━━━━━━━\u001b[0m\u001b[37m\u001b[0m \u001b[1m247s\u001b[0m 3s/step - accuracy: 0.9818 - loss: 0.0664 - val_accuracy: 0.9625 - val_loss: 0.1491\n"
          ]
        }
      ],
      "source": [
        "# Train the model\n",
        "history = model.fit(X_train, y_train, epochs=20, batch_size=32, validation_data=(X_test, y_test))"
      ]
    },
    {
      "cell_type": "markdown",
      "metadata": {
        "id": "BkndGXn-U97Z"
      },
      "source": [
        "Evaluate the Model"
      ]
    },
    {
      "cell_type": "code",
      "execution_count": null,
      "metadata": {
        "colab": {
          "base_uri": "https://localhost:8080/"
        },
        "id": "-4FLR4k_VDiM",
        "outputId": "5d64cf69-7a9e-4ddc-d90f-a088d98727b0"
      },
      "outputs": [
        {
          "output_type": "stream",
          "name": "stdout",
          "text": [
            "\u001b[1m29/29\u001b[0m \u001b[32m━━━━━━━━━━━━━━━━━━━━\u001b[0m\u001b[37m\u001b[0m \u001b[1m29s\u001b[0m 1s/step - accuracy: 0.9665 - loss: 0.1397\n",
            "\u001b[1m29/29\u001b[0m \u001b[32m━━━━━━━━━━━━━━━━━━━━\u001b[0m\u001b[37m\u001b[0m \u001b[1m31s\u001b[0m 1s/step\n",
            "Test Accuracy: 96.25%\n",
            "Test Precision: 96.59%\n",
            "Test Recall: 95.72%\n"
          ]
        }
      ],
      "source": [
        "# Evaluate the model\n",
        "test_loss, test_accuracy = model.evaluate(X_test, y_test, batch_size=32)\n",
        "y_pred = model.predict(X_test).argmax(axis=1)\n",
        "\n",
        "# Precision and recall\n",
        "precision = precision_score(y_test, y_pred)\n",
        "recall = recall_score(y_test, y_pred)\n",
        "\n",
        "print(f\"Test Accuracy: {test_accuracy * 100:.2f}%\")\n",
        "print(f\"Test Precision: {precision * 100:.2f}%\")\n",
        "print(f\"Test Recall: {recall * 100:.2f}%\")\n"
      ]
    },
    {
      "cell_type": "code",
      "source": [
        "# Confusion matrix\n",
        "cm = confusion_matrix(y_test, y_pred)\n",
        "sns.heatmap(cm, annot=True, fmt=\"d\", cmap=\"Blues\", xticklabels=[\"No Tumor\", \"Tumor\"], yticklabels=[\"No Tumor\", \"Tumor\"])\n",
        "plt.xlabel(\"Predicted\")\n",
        "plt.ylabel(\"True\")\n",
        "plt.title(\"Confusion Matrix\")\n",
        "plt.show()"
      ],
      "metadata": {
        "colab": {
          "base_uri": "https://localhost:8080/",
          "height": 472
        },
        "id": "9ui-BtXRSWEz",
        "outputId": "cefbc3ee-b6a8-4aaf-b7c3-a847012aedc1"
      },
      "execution_count": null,
      "outputs": [
        {
          "output_type": "display_data",
          "data": {
            "text/plain": [
              "<Figure size 640x480 with 2 Axes>"
            ],
            "image/png": "[encoded data removed]"
          },
          "metadata": {}
        }
      ]
    }
  ],
  "metadata": {
    "colab": {
      "provenance": [],
      "mount_file_id": "1wtAUcXKjhRlLvuFrjqif5qbSBle33k11",
      "authorship_tag": "ABX9TyOi9+pfF/sZDHUipxiuSJJm",
      "include_colab_link": true
    },
    "kernelspec": {
      "display_name": "Python 3",
      "name": "python3"
    },
    "language_info": {
      "name": "python"
    }
  },
  "nbformat": 4,
  "nbformat_minor": 0
}

{
  "nbformat": 4,
  "nbformat_minor": 0,
  "metadata": {
    "colab": {
      "provenance": [],
      "gpuType": "T4",
      "authorship_tag": "ABX9TyOPTZsqPVX/LfECdg3o9j0s",
      "include_colab_link": true
    },
    "kernelspec": {
      "name": "python3",
      "display_name": "Python 3"
    },
    "language_info": {
      "name": "python"
    },
    "accelerator": "GPU"
  },
  "cells": [
    {
      "cell_type": "markdown",
      "metadata": {
        "id": "view-in-github",
        "colab_type": "text"
      },
      "source": [
        "<a href=\"https://colab.research.google.com/github/TharinsaMudalige/Neuron-Brain_Tumor_Detection_Classification_with_XAI/blob/Detection-Classficiation-CNN/Preprocessing_for_Faster_R_CNN.ipynb\" target=\"_parent\"><img src=\"https://colab.research.google.com/assets/colab-badge.svg\" alt=\"Open In Colab\"/></a>"
      ]
    },
    {
      "cell_type": "markdown",
      "source": [
        "# Import Libraries, Mount Google Drive ,Extract Dataset"
      ],
      "metadata": {
        "id": "7YHU3kQPfzFY"
      }
    },
    {
      "cell_type": "code",
      "execution_count": 1,
      "metadata": {
        "colab": {
          "base_uri": "https://localhost:8080/"
        },
        "id": "llmfUPbvfoxW",
        "outputId": "34a42d6a-8149-4d7e-e9b1-752dde62d847"
      },
      "outputs": [
        {
          "output_type": "stream",
          "name": "stdout",
          "text": [
            "Mounted at /content/drive\n"
          ]
        }
      ],
      "source": [
        "# Import libraries\n",
        "import os\n",
        "import cv2\n",
        "import numpy as np\n",
        "import random\n",
        "from sklearn.model_selection import train_test_split\n",
        "from google.colab import drive\n",
        "import zipfile\n",
        "\n",
        "# Mount Google Drive\n",
        "drive.mount('/content/drive')\n",
        "\n",
        "# Paths\n",
        "drive_path = \"/content/drive/My Drive/DSGP/Original Dataset.zip\"  # Path to your zip file\n",
        "original_dataset_dir = \"/content/original_dataset\"\n",
        "preprocessed_dataset_dir = \"/content/drive/My Drive/DSGP/Preprocessed Dataset\"  # Save preprocessed data here\n",
        "\n",
        "# Unzip dataset\n",
        "if not os.path.exists(original_dataset_dir):\n",
        "    with zipfile.ZipFile(drive_path, 'r') as zip_ref:\n",
        "        zip_ref.extractall(original_dataset_dir)"
      ]
    },
    {
      "cell_type": "markdown",
      "source": [
        "# Define Image Enhancements"
      ],
      "metadata": {
        "id": "HDtv2hIegCT4"
      }
    },
    {
      "cell_type": "markdown",
      "source": [
        "CLAHE for Contrast Enhancement"
      ],
      "metadata": {
        "id": "VDXxE_i0gF40"
      }
    },
    {
      "cell_type": "code",
      "source": [
        "def apply_clahe(image):\n",
        "    gray = cv2.cvtColor(image, cv2.COLOR_BGR2GRAY)\n",
        "    clahe = cv2.createCLAHE(clipLimit=2.0, tileGridSize=(8, 8))\n",
        "    enhanced = clahe.apply(gray)\n",
        "    return cv2.merge([enhanced, enhanced, enhanced])"
      ],
      "metadata": {
        "id": "8f4eVDC4gKSO"
      },
      "execution_count": 2,
      "outputs": []
    },
    {
      "cell_type": "markdown",
      "source": [
        "Gaussian Blur to Reduce Noise"
      ],
      "metadata": {
        "id": "uDegKLlOgNSM"
      }
    },
    {
      "cell_type": "code",
      "source": [
        "def apply_gaussian_blur(image):\n",
        "    return cv2.GaussianBlur(image, (5, 5), 0)"
      ],
      "metadata": {
        "id": "Kiw46RIkgQlj"
      },
      "execution_count": 3,
      "outputs": []
    },
    {
      "cell_type": "markdown",
      "source": [
        "# Skull Stripping"
      ],
      "metadata": {
        "id": "CR7qtkWFgTGH"
      }
    },
    {
      "cell_type": "code",
      "source": [
        "def skull_strip(image):\n",
        "    gray = cv2.cvtColor(image, cv2.COLOR_BGR2GRAY)\n",
        "    _, mask = cv2.threshold(gray, 10, 255, cv2.THRESH_BINARY)\n",
        "    mask = cv2.dilate(mask, None, iterations=2)\n",
        "    return cv2.bitwise_and(image, image, mask=mask)"
      ],
      "metadata": {
        "id": "oS63ZsFSgVqg"
      },
      "execution_count": 4,
      "outputs": []
    },
    {
      "cell_type": "markdown",
      "source": [
        "# Resize, Normalize and Padding"
      ],
      "metadata": {
        "id": "kfxJj_rAgY1Q"
      }
    },
    {
      "cell_type": "markdown",
      "source": [
        "Resize and Normalize"
      ],
      "metadata": {
        "id": "cPBmKDVbgcc2"
      }
    },
    {
      "cell_type": "code",
      "source": [
        "def resize_and_normalize(image):\n",
        "    resized = cv2.resize(image, (256, 256))\n",
        "    normalized = resized / 255.0\n",
        "    return normalized"
      ],
      "metadata": {
        "id": "LMQEamRGgfRv"
      },
      "execution_count": 5,
      "outputs": []
    },
    {
      "cell_type": "markdown",
      "source": [
        "Pad to Maintatin Aspect Ratio"
      ],
      "metadata": {
        "id": "uOluJku-giFY"
      }
    },
    {
      "cell_type": "code",
      "source": [
        "def pad_to_square(image):\n",
        "    h, w, _ = image.shape\n",
        "    size = max(h, w)\n",
        "    padded = np.zeros((size, size, 3), dtype=np.uint8)\n",
        "    padded[:h, :w, :] = image\n",
        "    return cv2.resize(padded, (256, 256))"
      ],
      "metadata": {
        "id": "tx19J5AJgl1_"
      },
      "execution_count": 6,
      "outputs": []
    },
    {
      "cell_type": "markdown",
      "source": [
        "# Data Augmentation"
      ],
      "metadata": {
        "id": "Sk0GbZPAgoiy"
      }
    },
    {
      "cell_type": "code",
      "source": [
        "def augment_image(image):\n",
        "    augmented = []\n",
        "    augmented.append(cv2.flip(image, 1))  # Horizontal Flip\n",
        "    angle = random.randint(-15, 15)  # Random Rotation\n",
        "    center = (256 // 2, 256 // 2)\n",
        "    M = cv2.getRotationMatrix2D(center, angle, 1.0)\n",
        "    augmented.append(cv2.warpAffine(image, M, (256, 256)))\n",
        "    return augmented"
      ],
      "metadata": {
        "id": "lFAPvnRKgqj8"
      },
      "execution_count": 7,
      "outputs": []
    },
    {
      "cell_type": "markdown",
      "source": [
        "# Handle Class Imbalance"
      ],
      "metadata": {
        "id": "2tcmaoSNgtnr"
      }
    },
    {
      "cell_type": "code",
      "source": [
        "def handle_class_imbalance(images, target_count=100):\n",
        "    if len(images) < target_count:\n",
        "        diff = target_count - len(images)\n",
        "        images += random.choices(images, k=diff)\n",
        "    return images"
      ],
      "metadata": {
        "id": "Q3guLJjggwHo"
      },
      "execution_count": 8,
      "outputs": []
    },
    {
      "cell_type": "markdown",
      "source": [
        "# Split Dataset"
      ],
      "metadata": {
        "id": "v_ufPTt_gymc"
      }
    },
    {
      "cell_type": "code",
      "source": [
        "def split_dataset(images):\n",
        "    return train_test_split(images, test_size=0.2, random_state=42)"
      ],
      "metadata": {
        "id": "201dI1cQg0qZ"
      },
      "execution_count": 9,
      "outputs": []
    },
    {
      "cell_type": "markdown",
      "source": [
        "# Preprocess and Save Dataset"
      ],
      "metadata": {
        "id": "1XEoLXlgg6Dt"
      }
    },
    {
      "cell_type": "code",
      "source": [
        "def preprocess_and_save_dataset():\n",
        "    \"\"\"\n",
        "    Processes the dataset by applying preprocessing techniques, data augmentation,\n",
        "    class balancing, and splitting into train/test sets while preserving the folder structure.\n",
        "    \"\"\"\n",
        "    for root, _, files in os.walk(original_dataset_dir):\n",
        "        # Collect image paths\n",
        "        images = [os.path.join(root, f) for f in files if f.endswith(('.png', '.jpg', '.jpeg'))]\n",
        "\n",
        "        if len(images) == 0:\n",
        "            print(f\"No images found in folder: {root}\")\n",
        "            continue\n",
        "\n",
        "        print(f\"Processing folder: {root}\")\n",
        "        print(f\"Number of images: {len(images)}\")\n",
        "\n",
        "        # Handle class imbalance\n",
        "        images = handle_class_imbalance(images, target_count=100)\n",
        "\n",
        "        # Split into train/test\n",
        "        train_images, test_images = split_dataset(images)\n",
        "\n",
        "        for split, split_images in [(\"train\", train_images), (\"test\", test_images)]:\n",
        "            for img_path in split_images:\n",
        "                # Determine relative folder structure\n",
        "                relative_path = os.path.relpath(img_path, original_dataset_dir)\n",
        "                subfolder = os.path.dirname(relative_path)\n",
        "\n",
        "                # Create output directory\n",
        "                output_folder = os.path.join(preprocessed_dataset_dir, split, subfolder)\n",
        "                os.makedirs(output_folder, exist_ok=True)\n",
        "\n",
        "                # Load and preprocess the image\n",
        "                img = cv2.imread(img_path)\n",
        "                img = skull_strip(img)\n",
        "                img = apply_gaussian_blur(img)\n",
        "                img = apply_clahe(img)\n",
        "                img = pad_to_square(img)\n",
        "                img = resize_and_normalize(img)\n",
        "\n",
        "                # Save preprocessed image\n",
        "                output_path = os.path.join(output_folder, os.path.basename(img_path))\n",
        "                cv2.imwrite(output_path, (img * 255).astype(np.uint8))\n",
        "\n",
        "                # Augment training images\n",
        "                if split == \"train\":\n",
        "                    augmented_images = augment_image(img)\n",
        "                    for i, aug_img in enumerate(augmented_images):\n",
        "                        aug_output_path = os.path.join(output_folder, f\"{os.path.splitext(os.path.basename(img_path))[0]}_aug{i}.jpg\")\n",
        "                        cv2.imwrite(aug_output_path, (aug_img * 255).astype(np.uint8))"
      ],
      "metadata": {
        "id": "sm8VDus7g87o"
      },
      "execution_count": 10,
      "outputs": []
    },
    {
      "cell_type": "markdown",
      "source": [
        "# Run Preprocessing"
      ],
      "metadata": {
        "id": "kgA9WI02g_So"
      }
    },
    {
      "cell_type": "code",
      "source": [
        "# Run preprocessing\n",
        "preprocess_and_save_dataset()\n",
        "\n",
        "# Confirm completion\n",
        "print(\"Preprocessing complete! Preprocessed data is saved in:\", preprocessed_dataset_dir)"
      ],
      "metadata": {
        "colab": {
          "base_uri": "https://localhost:8080/"
        },
        "id": "bjeoeyBthCvF",
        "outputId": "632d6d88-1aef-4c5d-d668-a63bd8727125"
      },
      "execution_count": 11,
      "outputs": [
        {
          "output_type": "stream",
          "name": "stdout",
          "text": [
            "No images found in folder: /content/original_dataset\n",
            "No images found in folder: /content/original_dataset/Original Dataset\n",
            "No images found in folder: /content/original_dataset/Original Dataset/Tumor\n",
            "Processing folder: /content/original_dataset/Original Dataset/Tumor/meningioma\n",
            "Number of images: 1645\n",
            "No images found in folder: /content/original_dataset/Original Dataset/Tumor/glioma\n",
            "Processing folder: /content/original_dataset/Original Dataset/Tumor/glioma/Meningioma T2\n",
            "Number of images: 233\n",
            "Processing folder: /content/original_dataset/Original Dataset/Tumor/glioma/Ganglioglioma T1\n",
            "Number of images: 20\n",
            "Processing folder: /content/original_dataset/Original Dataset/Tumor/glioma/Carcinoma T1\n",
            "Number of images: 65\n",
            "Processing folder: /content/original_dataset/Original Dataset/Tumor/glioma/Glioblastoma T2\n",
            "Number of images: 55\n",
            "Processing folder: /content/original_dataset/Original Dataset/Tumor/glioma/Meningioma T1C+\n",
            "Number of images: 369\n",
            "Processing folder: /content/original_dataset/Original Dataset/Tumor/glioma/Oligodendroglioma T1C+\n",
            "Number of images: 72\n",
            "Processing folder: /content/original_dataset/Original Dataset/Tumor/glioma/Tuberculoma T1\n",
            "Number of images: 28\n",
            "Processing folder: /content/original_dataset/Original Dataset/Tumor/glioma/Carcinoma T1C+\n",
            "Number of images: 111\n",
            "Processing folder: /content/original_dataset/Original Dataset/Tumor/glioma/Astrocitoma T1C+\n",
            "Number of images: 232\n",
            "Processing folder: /content/original_dataset/Original Dataset/Tumor/glioma/Tuberculoma T2\n",
            "Number of images: 33\n",
            "Processing folder: /content/original_dataset/Original Dataset/Tumor/glioma/Schwannoma T2\n",
            "Number of images: 123\n",
            "Processing folder: /content/original_dataset/Original Dataset/Tumor/glioma/Papiloma T2\n",
            "Number of images: 63\n",
            "Processing folder: /content/original_dataset/Original Dataset/Tumor/glioma/Granuloma T2\n",
            "Number of images: 17\n",
            "Processing folder: /content/original_dataset/Original Dataset/Tumor/glioma/Meduloblastoma T2\n",
            "Number of images: 41\n",
            "Processing folder: /content/original_dataset/Original Dataset/Tumor/glioma/Oligodendroglioma T1\n",
            "Number of images: 86\n",
            "Processing folder: /content/original_dataset/Original Dataset/Tumor/glioma/Ependimoma T1C+\n",
            "Number of images: 48\n",
            "Processing folder: /content/original_dataset/Original Dataset/Tumor/glioma/Papiloma T1\n",
            "Number of images: 66\n",
            "Processing folder: /content/original_dataset/Original Dataset/Tumor/glioma/Carcinoma T2\n",
            "Number of images: 72\n",
            "Processing folder: /content/original_dataset/Original Dataset/Tumor/glioma/Neurocitoma T1C+\n",
            "Number of images: 223\n",
            "Processing folder: /content/original_dataset/Original Dataset/Tumor/glioma/Ganglioglioma T2\n",
            "Number of images: 23\n",
            "Processing folder: /content/original_dataset/Original Dataset/Tumor/glioma/Neurocitoma T1\n",
            "Number of images: 130\n",
            "Processing folder: /content/original_dataset/Original Dataset/Tumor/glioma/Papiloma T1C+\n",
            "Number of images: 108\n",
            "Processing folder: /content/original_dataset/Original Dataset/Tumor/glioma/Meningioma T1\n",
            "Number of images: 272\n",
            "Processing folder: /content/original_dataset/Original Dataset/Tumor/glioma/Neurocitoma T2\n",
            "Number of images: 104\n",
            "Processing folder: /content/original_dataset/Original Dataset/Tumor/glioma/Granuloma T1C+\n",
            "Number of images: 31\n",
            "Processing folder: /content/original_dataset/Original Dataset/Tumor/glioma/Meduloblastoma T1\n",
            "Number of images: 23\n",
            "Processing folder: /content/original_dataset/Original Dataset/Tumor/glioma/Tuberculoma T1C+\n",
            "Number of images: 84\n",
            "Processing folder: /content/original_dataset/Original Dataset/Tumor/glioma/Meduloblastoma T1C+\n",
            "Number of images: 67\n",
            "Processing folder: /content/original_dataset/Original Dataset/Tumor/glioma/Granuloma T1\n",
            "Number of images: 30\n",
            "Processing folder: /content/original_dataset/Original Dataset/Tumor/glioma/Ependimoma T2\n",
            "Number of images: 57\n",
            "Processing folder: /content/original_dataset/Original Dataset/Tumor/glioma/Glioblastoma T1\n",
            "Number of images: 55\n",
            "Processing folder: /content/original_dataset/Original Dataset/Tumor/glioma/Oligodendroglioma T2\n",
            "Number of images: 66\n",
            "Processing folder: /content/original_dataset/Original Dataset/Tumor/glioma/Astrocitoma T1\n",
            "Number of images: 176\n",
            "Processing folder: /content/original_dataset/Original Dataset/Tumor/glioma/Glioblastoma T1C+\n",
            "Number of images: 94\n",
            "Processing folder: /content/original_dataset/Original Dataset/Tumor/glioma/Germinoma T2\n",
            "Number of images: 28\n",
            "Processing folder: /content/original_dataset/Original Dataset/Tumor/glioma/Schwannoma T1\n",
            "Number of images: 148\n",
            "Processing folder: /content/original_dataset/Original Dataset/Tumor/glioma/Astrocitoma T2\n",
            "Number of images: 171\n",
            "Processing folder: /content/original_dataset/Original Dataset/Tumor/glioma/Ependimoma T1\n",
            "Number of images: 45\n",
            "Processing folder: /content/original_dataset/Original Dataset/Tumor/glioma/Germinoma T1\n",
            "Number of images: 27\n",
            "Processing folder: /content/original_dataset/Original Dataset/Tumor/glioma/Germinoma T1C+\n",
            "Number of images: 35\n",
            "Processing folder: /content/original_dataset/Original Dataset/Tumor/glioma/Ganglioglioma T1C+\n",
            "Number of images: 18\n",
            "Processing folder: /content/original_dataset/Original Dataset/Tumor/glioma/Schwannoma T1C+\n",
            "Number of images: 194\n",
            "Processing folder: /content/original_dataset/Original Dataset/Tumor/pituitary\n",
            "Number of images: 1757\n",
            "Processing folder: /content/original_dataset/Original Dataset/No Tumor\n",
            "Number of images: 2522\n",
            "Preprocessing complete! Preprocessed data is saved in: /content/drive/My Drive/DSGP/Preprocessed Dataset\n"
          ]
        }
      ]
    }
  ]
}

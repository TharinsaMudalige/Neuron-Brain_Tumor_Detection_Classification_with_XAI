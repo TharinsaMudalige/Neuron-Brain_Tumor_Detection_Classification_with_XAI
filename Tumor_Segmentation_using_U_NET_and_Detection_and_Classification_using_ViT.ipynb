{
  "nbformat": 4,
  "nbformat_minor": 0,
  "metadata": {
    "colab": {
      "provenance": [],
      "authorship_tag": "ABX9TyPlRPdOKWsIHnm4TtRXzrpc",
      "include_colab_link": true
    },
    "kernelspec": {
      "name": "python3",
      "display_name": "Python 3"
    },
    "language_info": {
      "name": "python"
    }
  },
  "cells": [
    {
      "cell_type": "markdown",
      "metadata": {
        "id": "view-in-github",
        "colab_type": "text"
      },
      "source": [
        "<a href=\"https://colab.research.google.com/github/TharinsaMudalige/Neuron-Brain_Tumor_Detection_Classification_with_XAI/blob/Detection-Classification-VIT/Tumor_Segmentation_using_U_NET_and_Detection_and_Classification_using_ViT.ipynb\" target=\"_parent\"><img src=\"https://colab.research.google.com/assets/colab-badge.svg\" alt=\"Open In Colab\"/></a>"
      ]
    },
    {
      "cell_type": "markdown",
      "source": [
        "Importing Libraries"
      ],
      "metadata": {
        "id": "KiuZkR7a7nlr"
      }
    },
    {
      "cell_type": "code",
      "execution_count": 1,
      "metadata": {
        "id": "-s4GUx4c5p15"
      },
      "outputs": [],
      "source": [
        "import tensorflow as tf\n",
        "from tensorflow.keras import layers, Model\n",
        "import numpy as np\n",
        "import cv2\n",
        "import os\n",
        "from sklearn.model_selection import train_test_split\n",
        "import matplotlib.pyplot as plt\n"
      ]
    },
    {
      "cell_type": "markdown",
      "source": [
        "U- Net Model for Brain Tumor Segmentation"
      ],
      "metadata": {
        "id": "_OHLRiYU8CiX"
      }
    },
    {
      "cell_type": "code",
      "source": [
        "def unet_model(input_shape=(256, 256, 1)):\n",
        "\n",
        "    # Builds a U-Net model for image segmentation.\n",
        "    # U-Net is a convolutional neural network architecture designed for biomedical image segmentation.\n",
        "\n",
        "    # Input layer for the U-Net\n",
        "    inputs = tf.keras.Input(input_shape)  # Input tensor for the model\n",
        "\n",
        "    # Encoder (Downsampling Path)\n",
        "\n",
        "    # Block 1: First convolutional block\n",
        "    c1 = layers.Conv2D(64, (3, 3), activation='relu', padding='same')(inputs)  # Convolution layer 1\n",
        "    c1 = layers.Conv2D(64, (3, 3), activation='relu', padding='same')(c1)      # Convolution layer 2\n",
        "    p1 = layers.MaxPooling2D((2, 2))(c1)  # Max pooling layer reduces dimensions by 2x\n",
        "\n",
        "    # Block 2: Second convolutional block\n",
        "    c2 = layers.Conv2D(128, (3, 3), activation='relu', padding='same')(p1)  # Convolution layer 1\n",
        "    c2 = layers.Conv2D(128, (3, 3), activation='relu', padding='same')(c2)  # Convolution layer 2\n",
        "    p2 = layers.MaxPooling2D((2, 2))(c2)  # Max pooling layer reduces dimensions further\n",
        "\n",
        "    # Bottleneck (Bridge between Encoder and Decoder)\n",
        "    # Block 3: Bottleneck convolutional block\n",
        "    c3 = layers.Conv2D(256, (3, 3), activation='relu', padding='same')(p2)  # Convolution layer 1\n",
        "    c3 = layers.Conv2D(256, (3, 3), activation='relu', padding='same')(c3)  # Convolution layer 2\n",
        "\n",
        "    # Decoder (Upsampling Path)\n",
        "\n",
        "    # Block 4: First upsampling and convolutional block\n",
        "    u2 = layers.UpSampling2D((2, 2))(c3)  # Upsampling layer: Doubles the spatial dimensions\n",
        "    u2 = layers.Concatenate()([u2, c2])   # Skip connection: Concatenate with corresponding encoder block\n",
        "    c4 = layers.Conv2D(128, (3, 3), activation='relu', padding='same')(u2)  # Convolution layer 1\n",
        "    c4 = layers.Conv2D(128, (3, 3), activation='relu', padding='same')(c4)  # Convolution layer 2\n",
        "\n",
        "    # Block 5: Second upsampling and convolutional block\n",
        "    u1 = layers.UpSampling2D((2, 2))(c4)  # Upsampling layer: Doubles the spatial dimensions\n",
        "    u1 = layers.Concatenate()([u1, c1])   # Skip connection: Concatenate with corresponding encoder block\n",
        "    c5 = layers.Conv2D(64, (3, 3), activation='relu', padding='same')(u1)  # Convolution layer 1\n",
        "    c5 = layers.Conv2D(64, (3, 3), activation='relu', padding='same')(c5)  # Convolution layer 2\n",
        "\n",
        "    # Output layer\n",
        "    outputs = layers.Conv2D(1, (1, 1), activation='sigmoid')(c5)  # Sigmoid activation for binary segmentation\n",
        "\n",
        "    # Return the U-Net model\n",
        "    return Model(inputs, outputs, name=\"U-Net\")\n",
        "\n",
        "# Instantiate U-Net model\n",
        "unet = unet_model()\n",
        "\n",
        "# Compile the model\n",
        "unet.compile(optimizer=\"adam\",                # Adam optimizer for faster convergence\n",
        "             loss=\"binary_crossentropy\",      # Binary cross-entropy for pixel-wise binary classification\n",
        "             metrics=[\"accuracy\"])            # Track accuracy during training\n",
        "\n",
        "# Print model summary\n",
        "unet.summary()  # Display the model architecture\n"
      ],
      "metadata": {
        "id": "iK9fL_3o8KML"
      },
      "execution_count": null,
      "outputs": []
    }
  ]
}
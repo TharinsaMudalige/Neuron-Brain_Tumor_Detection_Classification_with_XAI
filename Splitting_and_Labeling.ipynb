{
  "nbformat": 4,
  "nbformat_minor": 0,
  "metadata": {
    "colab": {
      "provenance": [],
      "authorship_tag": "ABX9TyMy9IODu5vmlM8i+PpLcHLm",
      "include_colab_link": true
    },
    "kernelspec": {
      "name": "python3",
      "display_name": "Python 3"
    },
    "language_info": {
      "name": "python"
    }
  },
  "cells": [
    {
      "cell_type": "markdown",
      "metadata": {
        "id": "view-in-github",
        "colab_type": "text"
      },
      "source": [
        "<a href=\"https://colab.research.google.com/github/TharinsaMudalige/Neuron-Brain_Tumor_Detection_Classification_with_XAI/blob/Detection-Classficiation-CNN/Splitting_and_Labeling.ipynb\" target=\"_parent\"><img src=\"https://colab.research.google.com/assets/colab-badge.svg\" alt=\"Open In Colab\"/></a>"
      ]
    },
    {
      "cell_type": "code",
      "execution_count": null,
      "metadata": {
        "colab": {
          "base_uri": "https://localhost:8080/"
        },
        "id": "WtQwwO5N5M35",
        "outputId": "a37439de-d01e-4917-9944-0c4ab08e01cb"
      },
      "outputs": [
        {
          "output_type": "stream",
          "name": "stdout",
          "text": [
            "Mounted at /content/drive\n",
            "Splitting complete!\n",
            "Train/Val/Test sets are saved in: /content/drive/MyDrive/DSGP/Splitted_Dataset\n"
          ]
        }
      ],
      "source": [
        "# 1. Mount Google Drive\n",
        "from google.colab import drive\n",
        "drive.mount('/content/drive')\n",
        "\n",
        "import os\n",
        "import shutil\n",
        "import random\n",
        "\n",
        "# ================================\n",
        "# 2. CONFIGURE PATHS & SPLIT RATIOS\n",
        "# ================================\n",
        "# Update these paths as needed:\n",
        "ORIG_DATASET_PATH = '/content/drive/MyDrive/DSGP/Original_Dataset'  # folder with your 16 class subfolders\n",
        "SPLIT_DATASET_PATH = '/content/drive/MyDrive/DSGP/Splitted_Dataset' # where you want the split dataset saved\n",
        "\n",
        "TRAIN_RATIO = 0.8\n",
        "VAL_RATIO   = 0.1\n",
        "TEST_RATIO  = 0.1\n",
        "\n",
        "# 3. CREATE TRAIN/VAL/TEST FOLDERS\n",
        "for split in ['train', 'val', 'test']:\n",
        "    os.makedirs(os.path.join(SPLIT_DATASET_PATH, split), exist_ok=True)\n",
        "\n",
        "# 4. LIST ALL CLASS FOLDERS (LABELS)\n",
        "classes = [\n",
        "    d for d in os.listdir(ORIG_DATASET_PATH)\n",
        "    if os.path.isdir(os.path.join(ORIG_DATASET_PATH, d))\n",
        "]\n",
        "\n",
        "# Ensure reproducibility\n",
        "random.seed(42)\n",
        "\n",
        "# 5. SPLIT IMAGES FOR EACH CLASS\n",
        "for class_name in classes:\n",
        "    class_folder = os.path.join(ORIG_DATASET_PATH, class_name)\n",
        "\n",
        "    # Gather all image files\n",
        "    images = [\n",
        "        f for f in os.listdir(class_folder)\n",
        "        if f.lower().endswith(('.jpg', '.jpeg', '.png'))\n",
        "    ]\n",
        "\n",
        "    # Shuffle images for a random split\n",
        "    random.shuffle(images)\n",
        "\n",
        "    # Calculate how many go to train, val, test\n",
        "    n_total = len(images)\n",
        "    n_train = int(n_total * TRAIN_RATIO)\n",
        "    n_val   = int(n_total * VAL_RATIO)\n",
        "    n_test  = n_total - n_train - n_val\n",
        "\n",
        "    train_files = images[:n_train]\n",
        "    val_files   = images[n_train:n_train + n_val]\n",
        "    test_files  = images[n_train + n_val:]\n",
        "\n",
        "    # Create subfolders named after the class in each split folder\n",
        "    train_dir = os.path.join(SPLIT_DATASET_PATH, 'train', class_name)\n",
        "    val_dir   = os.path.join(SPLIT_DATASET_PATH, 'val', class_name)\n",
        "    test_dir  = os.path.join(SPLIT_DATASET_PATH, 'test', class_name)\n",
        "\n",
        "    os.makedirs(train_dir, exist_ok=True)\n",
        "    os.makedirs(val_dir, exist_ok=True)\n",
        "    os.makedirs(test_dir, exist_ok=True)\n",
        "\n",
        "    # Copy the images to their respective folders\n",
        "    for f in train_files:\n",
        "        shutil.copy(os.path.join(class_folder, f), os.path.join(train_dir, f))\n",
        "    for f in val_files:\n",
        "        shutil.copy(os.path.join(class_folder, f), os.path.join(val_dir, f))\n",
        "    for f in test_files:\n",
        "        shutil.copy(os.path.join(class_folder, f), os.path.join(test_dir, f))\n",
        "\n",
        "print(\"Splitting complete!\")\n",
        "print(f\"Train/Val/Test sets are saved in: {SPLIT_DATASET_PATH}\")\n"
      ]
    },
    {
      "cell_type": "code",
      "source": [
        "import os\n",
        "import csv\n",
        "\n",
        "# Update this path to your split dataset folder (the one created previously)\n",
        "SPLIT_DATASET_PATH = '/content/drive/MyDrive/DSGP/Splitted_Dataset'\n",
        "\n",
        "def create_csv_for_split(split_name):\n",
        "    split_dir = os.path.join(SPLIT_DATASET_PATH, split_name)\n",
        "    csv_data = []\n",
        "\n",
        "    # Traverse each class folder in the split directory\n",
        "    for class_name in os.listdir(split_dir):\n",
        "        class_path = os.path.join(split_dir, class_name)\n",
        "        if os.path.isdir(class_path):\n",
        "            # List image files\n",
        "            for fname in os.listdir(class_path):\n",
        "                if fname.lower().endswith(('.jpg', '.jpeg', '.png')):\n",
        "                    # Get the full absolute path of the image\n",
        "                    full_path = os.path.abspath(os.path.join(class_path, fname))\n",
        "                    csv_data.append([full_path, class_name])\n",
        "\n",
        "    # Write CSV file\n",
        "    csv_filename = os.path.join(SPLIT_DATASET_PATH, f\"{split_name}_labels.csv\")\n",
        "    with open(csv_filename, 'w', newline='') as csv_file:\n",
        "        writer = csv.writer(csv_file)\n",
        "        writer.writerow(['image_path', 'label'])\n",
        "        writer.writerows(csv_data)\n",
        "    print(f\"CSV for {split_name} split saved to: {csv_filename}\")\n",
        "\n",
        "# Generate CSV files for train, validation, and test splits\n",
        "for split in ['train', 'val', 'test']:\n",
        "    create_csv_for_split(split)\n"
      ],
      "metadata": {
        "colab": {
          "base_uri": "https://localhost:8080/"
        },
        "id": "SIw7irWcf0Ca",
        "outputId": "52552f6b-d67f-4eca-bc8b-f003624a4131"
      },
      "execution_count": null,
      "outputs": [
        {
          "output_type": "stream",
          "name": "stdout",
          "text": [
            "CSV for train split saved to: /content/drive/MyDrive/DSGP/Splitted_Dataset/train_labels.csv\n",
            "CSV for val split saved to: /content/drive/MyDrive/DSGP/Splitted_Dataset/val_labels.csv\n",
            "CSV for test split saved to: /content/drive/MyDrive/DSGP/Splitted_Dataset/test_labels.csv\n"
          ]
        }
      ]
    },
    {
      "cell_type": "code",
      "source": [],
      "metadata": {
        "id": "Kx-EoKfHf0rZ"
      },
      "execution_count": null,
      "outputs": []
    }
  ]
}